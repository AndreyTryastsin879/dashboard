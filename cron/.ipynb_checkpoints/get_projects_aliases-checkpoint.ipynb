{
 "cells": [
  {
   "cell_type": "code",
   "execution_count": 1,
   "metadata": {},
   "outputs": [],
   "source": [
    "import pandas as pd"
   ]
  },
  {
   "cell_type": "markdown",
   "metadata": {},
   "source": [
    "## Frutoss"
   ]
  },
  {
   "cell_type": "code",
   "execution_count": 2,
   "metadata": {},
   "outputs": [],
   "source": [
    "table_aliases = pd.read_csv('projects_tables_with_aliases/frutoss_oc_seo_url.csv')"
   ]
  },
  {
   "cell_type": "markdown",
   "metadata": {},
   "source": [
    "### Категории"
   ]
  },
  {
   "cell_type": "code",
   "execution_count": 3,
   "metadata": {},
   "outputs": [
    {
     "name": "stderr",
     "output_type": "stream",
     "text": [
      "/Users/andreytryastsin/opt/anaconda3/lib/python3.7/site-packages/pandas/core/frame.py:4304: SettingWithCopyWarning: \n",
      "A value is trying to be set on a copy of a slice from a DataFrame\n",
      "\n",
      "See the caveats in the documentation: https://pandas.pydata.org/pandas-docs/stable/user_guide/indexing.html#returning-a-view-versus-a-copy\n",
      "  errors=errors,\n"
     ]
    }
   ],
   "source": [
    "categories_aliases = table_aliases[['query', 'keyword']]\n",
    "categories_aliases.rename(columns = {'query':'category_id','keyword':'alias'}, inplace = True)\n",
    "filter_categories = categories_aliases['category_id'].str.contains('category_id')"
   ]
  },
  {
   "cell_type": "code",
   "execution_count": 4,
   "metadata": {},
   "outputs": [],
   "source": [
    "categories_aliases = categories_aliases[filter_categories]"
   ]
  },
  {
   "cell_type": "code",
   "execution_count": 5,
   "metadata": {},
   "outputs": [
    {
     "data": {
      "text/plain": [
       "6700"
      ]
     },
     "execution_count": 5,
     "metadata": {},
     "output_type": "execute_result"
    }
   ],
   "source": [
    "categories_aliases.duplicated().sum()"
   ]
  },
  {
   "cell_type": "code",
   "execution_count": 6,
   "metadata": {},
   "outputs": [],
   "source": [
    "categories_aliases.drop_duplicates(inplace=True)"
   ]
  },
  {
   "cell_type": "code",
   "execution_count": 7,
   "metadata": {},
   "outputs": [],
   "source": [
    "categories_aliases['category_id'] = categories_aliases['category_id'].apply(lambda x: x.split('_'))"
   ]
  },
  {
   "cell_type": "code",
   "execution_count": 8,
   "metadata": {},
   "outputs": [],
   "source": [
    "categories_aliases['length_category_id'] = categories_aliases['category_id'].apply(lambda x: len(x))"
   ]
  },
  {
   "cell_type": "code",
   "execution_count": 9,
   "metadata": {},
   "outputs": [],
   "source": [
    "categories_aliases = categories_aliases[categories_aliases['length_category_id'] == 2]"
   ]
  },
  {
   "cell_type": "code",
   "execution_count": 10,
   "metadata": {},
   "outputs": [
    {
     "data": {
      "text/html": [
       "<div>\n",
       "<style scoped>\n",
       "    .dataframe tbody tr th:only-of-type {\n",
       "        vertical-align: middle;\n",
       "    }\n",
       "\n",
       "    .dataframe tbody tr th {\n",
       "        vertical-align: top;\n",
       "    }\n",
       "\n",
       "    .dataframe thead th {\n",
       "        text-align: right;\n",
       "    }\n",
       "</style>\n",
       "<table border=\"1\" class=\"dataframe\">\n",
       "  <thead>\n",
       "    <tr style=\"text-align: right;\">\n",
       "      <th></th>\n",
       "      <th>category_id</th>\n",
       "      <th>alias</th>\n",
       "      <th>length_category_id</th>\n",
       "    </tr>\n",
       "  </thead>\n",
       "  <tbody>\n",
       "    <tr>\n",
       "      <th>0</th>\n",
       "      <td>[category, id=118]</td>\n",
       "      <td>travyanoy-chay</td>\n",
       "      <td>2</td>\n",
       "    </tr>\n",
       "    <tr>\n",
       "      <th>1</th>\n",
       "      <td>[category, id=109]</td>\n",
       "      <td>smesi-orehovye-chajnye</td>\n",
       "      <td>2</td>\n",
       "    </tr>\n",
       "    <tr>\n",
       "      <th>2</th>\n",
       "      <td>[category, id=110]</td>\n",
       "      <td>churchhela</td>\n",
       "      <td>2</td>\n",
       "    </tr>\n",
       "    <tr>\n",
       "      <th>4</th>\n",
       "      <td>[category, id=134]</td>\n",
       "      <td>cedra-apelsina-1</td>\n",
       "      <td>2</td>\n",
       "    </tr>\n",
       "    <tr>\n",
       "      <th>6</th>\n",
       "      <td>[category, id=66]</td>\n",
       "      <td>shop</td>\n",
       "      <td>2</td>\n",
       "    </tr>\n",
       "    <tr>\n",
       "      <th>...</th>\n",
       "      <td>...</td>\n",
       "      <td>...</td>\n",
       "      <td>...</td>\n",
       "    </tr>\n",
       "    <tr>\n",
       "      <th>24456</th>\n",
       "      <td>[category, id=353]</td>\n",
       "      <td>fruktovyj-azerchay</td>\n",
       "      <td>2</td>\n",
       "    </tr>\n",
       "    <tr>\n",
       "      <th>24467</th>\n",
       "      <td>[category, id=354]</td>\n",
       "      <td>chernyj-azerchay</td>\n",
       "      <td>2</td>\n",
       "    </tr>\n",
       "    <tr>\n",
       "      <th>24478</th>\n",
       "      <td>[category, id=355]</td>\n",
       "      <td>maslo-dlya-plova</td>\n",
       "      <td>2</td>\n",
       "    </tr>\n",
       "    <tr>\n",
       "      <th>24489</th>\n",
       "      <td>[category, id=356]</td>\n",
       "      <td>maslo-podsolnechnoe-101</td>\n",
       "      <td>2</td>\n",
       "    </tr>\n",
       "    <tr>\n",
       "      <th>24500</th>\n",
       "      <td>[category, id=357]</td>\n",
       "      <td>olivkovoe-maslo</td>\n",
       "      <td>2</td>\n",
       "    </tr>\n",
       "  </tbody>\n",
       "</table>\n",
       "<p>266 rows × 3 columns</p>\n",
       "</div>"
      ],
      "text/plain": [
       "              category_id                    alias  length_category_id\n",
       "0      [category, id=118]           travyanoy-chay                   2\n",
       "1      [category, id=109]   smesi-orehovye-chajnye                   2\n",
       "2      [category, id=110]               churchhela                   2\n",
       "4      [category, id=134]         cedra-apelsina-1                   2\n",
       "6       [category, id=66]                     shop                   2\n",
       "...                   ...                      ...                 ...\n",
       "24456  [category, id=353]       fruktovyj-azerchay                   2\n",
       "24467  [category, id=354]         chernyj-azerchay                   2\n",
       "24478  [category, id=355]         maslo-dlya-plova                   2\n",
       "24489  [category, id=356]  maslo-podsolnechnoe-101                   2\n",
       "24500  [category, id=357]          olivkovoe-maslo                   2\n",
       "\n",
       "[266 rows x 3 columns]"
      ]
     },
     "execution_count": 10,
     "metadata": {},
     "output_type": "execute_result"
    }
   ],
   "source": [
    "categories_aliases"
   ]
  },
  {
   "cell_type": "code",
   "execution_count": 11,
   "metadata": {},
   "outputs": [],
   "source": [
    "categories_aliases['alias'].to_csv('projects_aliases/frutoss_categories_aliases.csv', index=False)"
   ]
  },
  {
   "cell_type": "markdown",
   "metadata": {},
   "source": [
    "### Карточки"
   ]
  },
  {
   "cell_type": "code",
   "execution_count": 13,
   "metadata": {},
   "outputs": [
    {
     "name": "stderr",
     "output_type": "stream",
     "text": [
      "/Users/andreytryastsin/opt/anaconda3/lib/python3.7/site-packages/pandas/core/frame.py:4304: SettingWithCopyWarning: \n",
      "A value is trying to be set on a copy of a slice from a DataFrame\n",
      "\n",
      "See the caveats in the documentation: https://pandas.pydata.org/pandas-docs/stable/user_guide/indexing.html#returning-a-view-versus-a-copy\n",
      "  errors=errors,\n"
     ]
    }
   ],
   "source": [
    "products_aliases = table_aliases[['query', 'keyword']]\n",
    "products_aliases.rename(columns = {'query':'product_id','keyword':'alias'}, inplace = True)\n",
    "filter_products = products_aliases['product_id'].str.contains('product_id')"
   ]
  },
  {
   "cell_type": "code",
   "execution_count": 14,
   "metadata": {},
   "outputs": [],
   "source": [
    "products_aliases = products_aliases[filter_products]"
   ]
  },
  {
   "cell_type": "code",
   "execution_count": 15,
   "metadata": {},
   "outputs": [
    {
     "data": {
      "text/plain": [
       "52900"
      ]
     },
     "execution_count": 15,
     "metadata": {},
     "output_type": "execute_result"
    }
   ],
   "source": [
    "products_aliases.duplicated().sum()"
   ]
  },
  {
   "cell_type": "code",
   "execution_count": 16,
   "metadata": {},
   "outputs": [],
   "source": [
    "products_aliases.drop_duplicates(inplace=True)"
   ]
  },
  {
   "cell_type": "code",
   "execution_count": 17,
   "metadata": {
    "scrolled": true
   },
   "outputs": [
    {
     "data": {
      "text/html": [
       "<div>\n",
       "<style scoped>\n",
       "    .dataframe tbody tr th:only-of-type {\n",
       "        vertical-align: middle;\n",
       "    }\n",
       "\n",
       "    .dataframe tbody tr th {\n",
       "        vertical-align: top;\n",
       "    }\n",
       "\n",
       "    .dataframe thead th {\n",
       "        text-align: right;\n",
       "    }\n",
       "</style>\n",
       "<table border=\"1\" class=\"dataframe\">\n",
       "  <thead>\n",
       "    <tr style=\"text-align: right;\">\n",
       "      <th></th>\n",
       "      <th>product_id</th>\n",
       "      <th>alias</th>\n",
       "    </tr>\n",
       "  </thead>\n",
       "  <tbody>\n",
       "    <tr>\n",
       "      <th>169</th>\n",
       "      <td>product_id=3601</td>\n",
       "      <td>maslo-abrikosovoe-100-250-ml</td>\n",
       "    </tr>\n",
       "    <tr>\n",
       "      <th>171</th>\n",
       "      <td>product_id=3488</td>\n",
       "      <td>dzhezere-atom-v-shokoladnom-drazhe-miks-iz-kur...</td>\n",
       "    </tr>\n",
       "    <tr>\n",
       "      <th>172</th>\n",
       "      <td>product_id=3489</td>\n",
       "      <td>lukum-sheker-25-kg-s-f</td>\n",
       "    </tr>\n",
       "    <tr>\n",
       "      <th>173</th>\n",
       "      <td>product_id=3490</td>\n",
       "      <td>kurut-syrnye-shariki-120-gr</td>\n",
       "    </tr>\n",
       "    <tr>\n",
       "      <th>174</th>\n",
       "      <td>product_id=3491</td>\n",
       "      <td>kurut-s-bazilikom-syrnye-shariki-150-gr</td>\n",
       "    </tr>\n",
       "    <tr>\n",
       "      <th>...</th>\n",
       "      <td>...</td>\n",
       "      <td>...</td>\n",
       "    </tr>\n",
       "    <tr>\n",
       "      <th>63639</th>\n",
       "      <td>product_id=6241</td>\n",
       "      <td>ris-basmati-asad-indiya-1-kg</td>\n",
       "    </tr>\n",
       "    <tr>\n",
       "      <th>63640</th>\n",
       "      <td>product_id=6243</td>\n",
       "      <td>ris-basmati-asad-indiya-5-kg</td>\n",
       "    </tr>\n",
       "    <tr>\n",
       "      <th>63641</th>\n",
       "      <td>product_id=6226</td>\n",
       "      <td>melissa-izmelchyonnaya</td>\n",
       "    </tr>\n",
       "    <tr>\n",
       "      <th>63678</th>\n",
       "      <td>product_id=6266</td>\n",
       "      <td>ulun-zhenshen-premiym-100-gr</td>\n",
       "    </tr>\n",
       "    <tr>\n",
       "      <th>63679</th>\n",
       "      <td>product_id=6433</td>\n",
       "      <td>chaj-zelyonyj-vetnam-1-kg</td>\n",
       "    </tr>\n",
       "  </tbody>\n",
       "</table>\n",
       "<p>2123 rows × 2 columns</p>\n",
       "</div>"
      ],
      "text/plain": [
       "            product_id                                              alias\n",
       "169    product_id=3601                       maslo-abrikosovoe-100-250-ml\n",
       "171    product_id=3488  dzhezere-atom-v-shokoladnom-drazhe-miks-iz-kur...\n",
       "172    product_id=3489                             lukum-sheker-25-kg-s-f\n",
       "173    product_id=3490                        kurut-syrnye-shariki-120-gr\n",
       "174    product_id=3491            kurut-s-bazilikom-syrnye-shariki-150-gr\n",
       "...                ...                                                ...\n",
       "63639  product_id=6241                       ris-basmati-asad-indiya-1-kg\n",
       "63640  product_id=6243                       ris-basmati-asad-indiya-5-kg\n",
       "63641  product_id=6226                             melissa-izmelchyonnaya\n",
       "63678  product_id=6266                       ulun-zhenshen-premiym-100-gr\n",
       "63679  product_id=6433                          chaj-zelyonyj-vetnam-1-kg\n",
       "\n",
       "[2123 rows x 2 columns]"
      ]
     },
     "execution_count": 17,
     "metadata": {},
     "output_type": "execute_result"
    }
   ],
   "source": [
    "products_aliases"
   ]
  },
  {
   "cell_type": "code",
   "execution_count": 18,
   "metadata": {},
   "outputs": [],
   "source": [
    "products_aliases['alias'].to_csv('projects_aliases/frutoss_products_aliases.csv', index=False)"
   ]
  },
  {
   "cell_type": "code",
   "execution_count": null,
   "metadata": {},
   "outputs": [],
   "source": []
  },
  {
   "cell_type": "code",
   "execution_count": null,
   "metadata": {},
   "outputs": [],
   "source": []
  },
  {
   "cell_type": "markdown",
   "metadata": {},
   "source": [
    "## BigBears"
   ]
  },
  {
   "cell_type": "code",
   "execution_count": 118,
   "metadata": {},
   "outputs": [],
   "source": [
    "table_aliases = pd.read_csv('projects_tables_with_aliases/bigbears_oc_seo_url.csv')"
   ]
  },
  {
   "cell_type": "markdown",
   "metadata": {},
   "source": [
    "### Категории"
   ]
  },
  {
   "cell_type": "code",
   "execution_count": 119,
   "metadata": {},
   "outputs": [
    {
     "name": "stderr",
     "output_type": "stream",
     "text": [
      "/Users/andreytryastsin/opt/anaconda3/lib/python3.7/site-packages/pandas/core/frame.py:4304: SettingWithCopyWarning: \n",
      "A value is trying to be set on a copy of a slice from a DataFrame\n",
      "\n",
      "See the caveats in the documentation: https://pandas.pydata.org/pandas-docs/stable/user_guide/indexing.html#returning-a-view-versus-a-copy\n",
      "  errors=errors,\n"
     ]
    }
   ],
   "source": [
    "categories_aliases = table_aliases[['query', 'keyword']]\n",
    "categories_aliases.rename(columns = {'query':'category_id','keyword':'alias'}, inplace = True)\n",
    "filter_categories = categories_aliases['category_id'].str.contains('category_id')"
   ]
  },
  {
   "cell_type": "code",
   "execution_count": 120,
   "metadata": {},
   "outputs": [],
   "source": [
    "categories_aliases = categories_aliases[filter_categories]"
   ]
  },
  {
   "cell_type": "code",
   "execution_count": 121,
   "metadata": {},
   "outputs": [
    {
     "data": {
      "text/plain": [
       "1140"
      ]
     },
     "execution_count": 121,
     "metadata": {},
     "output_type": "execute_result"
    }
   ],
   "source": [
    "categories_aliases.duplicated().sum()"
   ]
  },
  {
   "cell_type": "code",
   "execution_count": 122,
   "metadata": {},
   "outputs": [],
   "source": [
    "categories_aliases.drop_duplicates(inplace=True)"
   ]
  },
  {
   "cell_type": "code",
   "execution_count": 124,
   "metadata": {},
   "outputs": [],
   "source": [
    "categories_aliases['category_id'] = categories_aliases['category_id'].apply(lambda x: x.split('_'))"
   ]
  },
  {
   "cell_type": "code",
   "execution_count": 125,
   "metadata": {},
   "outputs": [],
   "source": [
    "categories_aliases['length_category_id'] = categories_aliases['category_id'].apply(lambda x: len(x))"
   ]
  },
  {
   "cell_type": "code",
   "execution_count": 126,
   "metadata": {},
   "outputs": [],
   "source": [
    "categories_aliases = categories_aliases[categories_aliases['length_category_id'] == 2]"
   ]
  },
  {
   "cell_type": "code",
   "execution_count": 127,
   "metadata": {},
   "outputs": [
    {
     "data": {
      "text/html": [
       "<div>\n",
       "<style scoped>\n",
       "    .dataframe tbody tr th:only-of-type {\n",
       "        vertical-align: middle;\n",
       "    }\n",
       "\n",
       "    .dataframe tbody tr th {\n",
       "        vertical-align: top;\n",
       "    }\n",
       "\n",
       "    .dataframe thead th {\n",
       "        text-align: right;\n",
       "    }\n",
       "</style>\n",
       "<table border=\"1\" class=\"dataframe\">\n",
       "  <thead>\n",
       "    <tr style=\"text-align: right;\">\n",
       "      <th></th>\n",
       "      <th>category_id</th>\n",
       "      <th>alias</th>\n",
       "      <th>length_category_id</th>\n",
       "    </tr>\n",
       "  </thead>\n",
       "  <tbody>\n",
       "    <tr>\n",
       "      <th>2</th>\n",
       "      <td>[category, id=66]</td>\n",
       "      <td>mishki-220-sm</td>\n",
       "      <td>2</td>\n",
       "    </tr>\n",
       "    <tr>\n",
       "      <th>3</th>\n",
       "      <td>[category, id=59]</td>\n",
       "      <td>katalog-mishek</td>\n",
       "      <td>2</td>\n",
       "    </tr>\n",
       "    <tr>\n",
       "      <th>4</th>\n",
       "      <td>[category, id=67]</td>\n",
       "      <td>mishki-80-sm</td>\n",
       "      <td>2</td>\n",
       "    </tr>\n",
       "    <tr>\n",
       "      <th>5</th>\n",
       "      <td>[category, id=72]</td>\n",
       "      <td>mishki-90-sm</td>\n",
       "      <td>2</td>\n",
       "    </tr>\n",
       "    <tr>\n",
       "      <th>6</th>\n",
       "      <td>[category, id=69]</td>\n",
       "      <td>mishki-110-sm</td>\n",
       "      <td>2</td>\n",
       "    </tr>\n",
       "    <tr>\n",
       "      <th>7</th>\n",
       "      <td>[category, id=63]</td>\n",
       "      <td>mishki-120-sm</td>\n",
       "      <td>2</td>\n",
       "    </tr>\n",
       "    <tr>\n",
       "      <th>8</th>\n",
       "      <td>[category, id=64]</td>\n",
       "      <td>mishki-150-sm</td>\n",
       "      <td>2</td>\n",
       "    </tr>\n",
       "    <tr>\n",
       "      <th>9</th>\n",
       "      <td>[category, id=61]</td>\n",
       "      <td>mishki-160-sm</td>\n",
       "      <td>2</td>\n",
       "    </tr>\n",
       "    <tr>\n",
       "      <th>10</th>\n",
       "      <td>[category, id=60]</td>\n",
       "      <td>mishki-170-sm</td>\n",
       "      <td>2</td>\n",
       "    </tr>\n",
       "    <tr>\n",
       "      <th>11</th>\n",
       "      <td>[category, id=65]</td>\n",
       "      <td>mishki-180-sm</td>\n",
       "      <td>2</td>\n",
       "    </tr>\n",
       "    <tr>\n",
       "      <th>12</th>\n",
       "      <td>[category, id=71]</td>\n",
       "      <td>mishki-200-sm</td>\n",
       "      <td>2</td>\n",
       "    </tr>\n",
       "    <tr>\n",
       "      <th>13</th>\n",
       "      <td>[category, id=62]</td>\n",
       "      <td>mishki-210-sm</td>\n",
       "      <td>2</td>\n",
       "    </tr>\n",
       "    <tr>\n",
       "      <th>14</th>\n",
       "      <td>[category, id=70]</td>\n",
       "      <td>plyushevye-pandy</td>\n",
       "      <td>2</td>\n",
       "    </tr>\n",
       "    <tr>\n",
       "      <th>31</th>\n",
       "      <td>[category, id=73]</td>\n",
       "      <td>nedorogie-mishki</td>\n",
       "      <td>2</td>\n",
       "    </tr>\n",
       "    <tr>\n",
       "      <th>34</th>\n",
       "      <td>[category, id=68]</td>\n",
       "      <td>mishki-280-sm</td>\n",
       "      <td>2</td>\n",
       "    </tr>\n",
       "    <tr>\n",
       "      <th>1600</th>\n",
       "      <td>[category, id=74]</td>\n",
       "      <td>bolshie-belogo-cveta</td>\n",
       "      <td>2</td>\n",
       "    </tr>\n",
       "    <tr>\n",
       "      <th>1601</th>\n",
       "      <td>[category, id=75]</td>\n",
       "      <td>bolshie-korichnevogo-cveta</td>\n",
       "      <td>2</td>\n",
       "    </tr>\n",
       "    <tr>\n",
       "      <th>1602</th>\n",
       "      <td>[category, id=76]</td>\n",
       "      <td>bolshie-serogo-cveta</td>\n",
       "      <td>2</td>\n",
       "    </tr>\n",
       "    <tr>\n",
       "      <th>1603</th>\n",
       "      <td>[category, id=77]</td>\n",
       "      <td>bolshie-medvedi-2-metra</td>\n",
       "      <td>2</td>\n",
       "    </tr>\n",
       "    <tr>\n",
       "      <th>1697</th>\n",
       "      <td>[category, id=78]</td>\n",
       "      <td>mishki-130-sm</td>\n",
       "      <td>2</td>\n",
       "    </tr>\n",
       "    <tr>\n",
       "      <th>1714</th>\n",
       "      <td>[category, id=79]</td>\n",
       "      <td>mishki-230-sm</td>\n",
       "      <td>2</td>\n",
       "    </tr>\n",
       "    <tr>\n",
       "      <th>1943</th>\n",
       "      <td>[category, id=80]</td>\n",
       "      <td>kelvin-80-230-sm</td>\n",
       "      <td>2</td>\n",
       "    </tr>\n",
       "    <tr>\n",
       "      <th>1960</th>\n",
       "      <td>[category, id=81]</td>\n",
       "      <td>barri-80-220-sm</td>\n",
       "      <td>2</td>\n",
       "    </tr>\n",
       "    <tr>\n",
       "      <th>1977</th>\n",
       "      <td>[category, id=82]</td>\n",
       "      <td>edvin-100-160-sm</td>\n",
       "      <td>2</td>\n",
       "    </tr>\n",
       "    <tr>\n",
       "      <th>1994</th>\n",
       "      <td>[category, id=83]</td>\n",
       "      <td>nestor-120-160-sm</td>\n",
       "      <td>2</td>\n",
       "    </tr>\n",
       "    <tr>\n",
       "      <th>2011</th>\n",
       "      <td>[category, id=84]</td>\n",
       "      <td>tonni-120-230-sm</td>\n",
       "      <td>2</td>\n",
       "    </tr>\n",
       "    <tr>\n",
       "      <th>2028</th>\n",
       "      <td>[category, id=85]</td>\n",
       "      <td>chelsi-120-200-sm</td>\n",
       "      <td>2</td>\n",
       "    </tr>\n",
       "    <tr>\n",
       "      <th>2043</th>\n",
       "      <td>[category, id=86]</td>\n",
       "      <td>baddi-170-210-sm</td>\n",
       "      <td>2</td>\n",
       "    </tr>\n",
       "    <tr>\n",
       "      <th>2093</th>\n",
       "      <td>[category, id=87]</td>\n",
       "      <td>mishki-180-sm-1</td>\n",
       "      <td>2</td>\n",
       "    </tr>\n",
       "  </tbody>\n",
       "</table>\n",
       "</div>"
      ],
      "text/plain": [
       "            category_id                       alias  length_category_id\n",
       "2     [category, id=66]               mishki-220-sm                   2\n",
       "3     [category, id=59]              katalog-mishek                   2\n",
       "4     [category, id=67]                mishki-80-sm                   2\n",
       "5     [category, id=72]                mishki-90-sm                   2\n",
       "6     [category, id=69]               mishki-110-sm                   2\n",
       "7     [category, id=63]               mishki-120-sm                   2\n",
       "8     [category, id=64]               mishki-150-sm                   2\n",
       "9     [category, id=61]               mishki-160-sm                   2\n",
       "10    [category, id=60]               mishki-170-sm                   2\n",
       "11    [category, id=65]               mishki-180-sm                   2\n",
       "12    [category, id=71]               mishki-200-sm                   2\n",
       "13    [category, id=62]               mishki-210-sm                   2\n",
       "14    [category, id=70]            plyushevye-pandy                   2\n",
       "31    [category, id=73]            nedorogie-mishki                   2\n",
       "34    [category, id=68]               mishki-280-sm                   2\n",
       "1600  [category, id=74]        bolshie-belogo-cveta                   2\n",
       "1601  [category, id=75]  bolshie-korichnevogo-cveta                   2\n",
       "1602  [category, id=76]        bolshie-serogo-cveta                   2\n",
       "1603  [category, id=77]     bolshie-medvedi-2-metra                   2\n",
       "1697  [category, id=78]               mishki-130-sm                   2\n",
       "1714  [category, id=79]               mishki-230-sm                   2\n",
       "1943  [category, id=80]            kelvin-80-230-sm                   2\n",
       "1960  [category, id=81]             barri-80-220-sm                   2\n",
       "1977  [category, id=82]            edvin-100-160-sm                   2\n",
       "1994  [category, id=83]           nestor-120-160-sm                   2\n",
       "2011  [category, id=84]            tonni-120-230-sm                   2\n",
       "2028  [category, id=85]           chelsi-120-200-sm                   2\n",
       "2043  [category, id=86]            baddi-170-210-sm                   2\n",
       "2093  [category, id=87]             mishki-180-sm-1                   2"
      ]
     },
     "execution_count": 127,
     "metadata": {},
     "output_type": "execute_result"
    }
   ],
   "source": [
    "categories_aliases"
   ]
  },
  {
   "cell_type": "code",
   "execution_count": 128,
   "metadata": {},
   "outputs": [],
   "source": [
    "categories_aliases['alias'].to_csv('projects_aliases/bigbears_categories_aliases.csv', index=False)"
   ]
  },
  {
   "cell_type": "markdown",
   "metadata": {},
   "source": [
    "### Карточки"
   ]
  },
  {
   "cell_type": "code",
   "execution_count": 129,
   "metadata": {},
   "outputs": [
    {
     "name": "stderr",
     "output_type": "stream",
     "text": [
      "/Users/andreytryastsin/opt/anaconda3/lib/python3.7/site-packages/pandas/core/frame.py:4304: SettingWithCopyWarning: \n",
      "A value is trying to be set on a copy of a slice from a DataFrame\n",
      "\n",
      "See the caveats in the documentation: https://pandas.pydata.org/pandas-docs/stable/user_guide/indexing.html#returning-a-view-versus-a-copy\n",
      "  errors=errors,\n"
     ]
    }
   ],
   "source": [
    "products_aliases = table_aliases[['query', 'keyword']]\n",
    "products_aliases.rename(columns = {'query':'product_id','keyword':'alias'}, inplace = True)\n",
    "filter_products = products_aliases['product_id'].str.contains('product_id')"
   ]
  },
  {
   "cell_type": "code",
   "execution_count": 130,
   "metadata": {},
   "outputs": [],
   "source": [
    "products_aliases = products_aliases[filter_products]"
   ]
  },
  {
   "cell_type": "code",
   "execution_count": 131,
   "metadata": {},
   "outputs": [
    {
     "data": {
      "text/plain": [
       "3382"
      ]
     },
     "execution_count": 131,
     "metadata": {},
     "output_type": "execute_result"
    }
   ],
   "source": [
    "products_aliases.duplicated().sum()"
   ]
  },
  {
   "cell_type": "code",
   "execution_count": 132,
   "metadata": {},
   "outputs": [],
   "source": [
    "products_aliases.drop_duplicates(inplace=True)"
   ]
  },
  {
   "cell_type": "code",
   "execution_count": 133,
   "metadata": {
    "scrolled": true
   },
   "outputs": [
    {
     "data": {
      "text/html": [
       "<div>\n",
       "<style scoped>\n",
       "    .dataframe tbody tr th:only-of-type {\n",
       "        vertical-align: middle;\n",
       "    }\n",
       "\n",
       "    .dataframe tbody tr th {\n",
       "        vertical-align: top;\n",
       "    }\n",
       "\n",
       "    .dataframe thead th {\n",
       "        text-align: right;\n",
       "    }\n",
       "</style>\n",
       "<table border=\"1\" class=\"dataframe\">\n",
       "  <thead>\n",
       "    <tr style=\"text-align: right;\">\n",
       "      <th></th>\n",
       "      <th>product_id</th>\n",
       "      <th>alias</th>\n",
       "    </tr>\n",
       "  </thead>\n",
       "  <tbody>\n",
       "    <tr>\n",
       "      <th>15</th>\n",
       "      <td>product_id=37</td>\n",
       "      <td>bolshoy-plyushevyy-medved-edvin-90-sm-belyy</td>\n",
       "    </tr>\n",
       "    <tr>\n",
       "      <th>32</th>\n",
       "      <td>product_id=24</td>\n",
       "      <td>bolshoy-plyushevyy-medved-panda-110-sm-cherno-...</td>\n",
       "    </tr>\n",
       "    <tr>\n",
       "      <th>33</th>\n",
       "      <td>product_id=25</td>\n",
       "      <td>bolshoy-plyushevyy-medved-panda-160-sm-cherno-...</td>\n",
       "    </tr>\n",
       "    <tr>\n",
       "      <th>41</th>\n",
       "      <td>product_id=4</td>\n",
       "      <td>bolshoy-plyushevyy-medved-altay-160-sm-zhemchu...</td>\n",
       "    </tr>\n",
       "    <tr>\n",
       "      <th>67</th>\n",
       "      <td>product_id=20</td>\n",
       "      <td>bolshoy-plyushevyy-medved-barri-220-sm-kofeynyy</td>\n",
       "    </tr>\n",
       "    <tr>\n",
       "      <th>...</th>\n",
       "      <td>...</td>\n",
       "      <td>...</td>\n",
       "    </tr>\n",
       "    <tr>\n",
       "      <th>2104</th>\n",
       "      <td>product_id=85</td>\n",
       "      <td>bolshoj-plyushevyj-medved-martin-180-sm-kofejnyj</td>\n",
       "    </tr>\n",
       "    <tr>\n",
       "      <th>2105</th>\n",
       "      <td>product_id=86</td>\n",
       "      <td>bolshoj-plyushevyj-medved-orion-180-sm-molochnyj</td>\n",
       "    </tr>\n",
       "    <tr>\n",
       "      <th>2106</th>\n",
       "      <td>product_id=87</td>\n",
       "      <td>bolshoj-plyushevyj-medved-orion-180-sm-kofejnyj</td>\n",
       "    </tr>\n",
       "    <tr>\n",
       "      <th>2107</th>\n",
       "      <td>product_id=88</td>\n",
       "      <td>bolshoj-plyushevyj-medved-martin-220-sm-molochnyj</td>\n",
       "    </tr>\n",
       "    <tr>\n",
       "      <th>2108</th>\n",
       "      <td>product_id=89</td>\n",
       "      <td>bolshoj-plyushevyj-medved-martin-220-sm-kofejnyj</td>\n",
       "    </tr>\n",
       "  </tbody>\n",
       "</table>\n",
       "<p>89 rows × 2 columns</p>\n",
       "</div>"
      ],
      "text/plain": [
       "         product_id                                              alias\n",
       "15    product_id=37        bolshoy-plyushevyy-medved-edvin-90-sm-belyy\n",
       "32    product_id=24  bolshoy-plyushevyy-medved-panda-110-sm-cherno-...\n",
       "33    product_id=25  bolshoy-plyushevyy-medved-panda-160-sm-cherno-...\n",
       "41     product_id=4  bolshoy-plyushevyy-medved-altay-160-sm-zhemchu...\n",
       "67    product_id=20    bolshoy-plyushevyy-medved-barri-220-sm-kofeynyy\n",
       "...             ...                                                ...\n",
       "2104  product_id=85   bolshoj-plyushevyj-medved-martin-180-sm-kofejnyj\n",
       "2105  product_id=86   bolshoj-plyushevyj-medved-orion-180-sm-molochnyj\n",
       "2106  product_id=87    bolshoj-plyushevyj-medved-orion-180-sm-kofejnyj\n",
       "2107  product_id=88  bolshoj-plyushevyj-medved-martin-220-sm-molochnyj\n",
       "2108  product_id=89   bolshoj-plyushevyj-medved-martin-220-sm-kofejnyj\n",
       "\n",
       "[89 rows x 2 columns]"
      ]
     },
     "execution_count": 133,
     "metadata": {},
     "output_type": "execute_result"
    }
   ],
   "source": [
    "products_aliases"
   ]
  },
  {
   "cell_type": "code",
   "execution_count": 134,
   "metadata": {},
   "outputs": [],
   "source": [
    "products_aliases['alias'].to_csv('projects_aliases/bigbears_products_aliases.csv', index=False)"
   ]
  },
  {
   "cell_type": "code",
   "execution_count": null,
   "metadata": {},
   "outputs": [],
   "source": []
  },
  {
   "cell_type": "markdown",
   "metadata": {},
   "source": [
    "## Skurala"
   ]
  },
  {
   "cell_type": "code",
   "execution_count": 135,
   "metadata": {},
   "outputs": [],
   "source": [
    "table_aliases = pd.read_csv('projects_tables_with_aliases/skurala_oc_seo_url.csv')"
   ]
  },
  {
   "cell_type": "markdown",
   "metadata": {},
   "source": [
    "### Категории"
   ]
  },
  {
   "cell_type": "code",
   "execution_count": 136,
   "metadata": {},
   "outputs": [
    {
     "name": "stderr",
     "output_type": "stream",
     "text": [
      "/Users/andreytryastsin/opt/anaconda3/lib/python3.7/site-packages/pandas/core/frame.py:4304: SettingWithCopyWarning: \n",
      "A value is trying to be set on a copy of a slice from a DataFrame\n",
      "\n",
      "See the caveats in the documentation: https://pandas.pydata.org/pandas-docs/stable/user_guide/indexing.html#returning-a-view-versus-a-copy\n",
      "  errors=errors,\n"
     ]
    }
   ],
   "source": [
    "categories_aliases = table_aliases[['query', 'keyword']]\n",
    "categories_aliases.rename(columns = {'query':'category_id','keyword':'alias'}, inplace = True)\n",
    "filter_categories = categories_aliases['category_id'].str.contains('category_id')"
   ]
  },
  {
   "cell_type": "code",
   "execution_count": 137,
   "metadata": {},
   "outputs": [],
   "source": [
    "categories_aliases = categories_aliases[filter_categories]"
   ]
  },
  {
   "cell_type": "code",
   "execution_count": 138,
   "metadata": {},
   "outputs": [
    {
     "data": {
      "text/plain": [
       "0"
      ]
     },
     "execution_count": 138,
     "metadata": {},
     "output_type": "execute_result"
    }
   ],
   "source": [
    "categories_aliases.duplicated().sum()"
   ]
  },
  {
   "cell_type": "code",
   "execution_count": 139,
   "metadata": {},
   "outputs": [],
   "source": [
    "categories_aliases.drop_duplicates(inplace=True)"
   ]
  },
  {
   "cell_type": "code",
   "execution_count": 140,
   "metadata": {},
   "outputs": [],
   "source": [
    "categories_aliases['category_id'] = categories_aliases['category_id'].apply(lambda x: x.split('_'))"
   ]
  },
  {
   "cell_type": "code",
   "execution_count": 141,
   "metadata": {},
   "outputs": [],
   "source": [
    "categories_aliases['length_category_id'] = categories_aliases['category_id'].apply(lambda x: len(x))"
   ]
  },
  {
   "cell_type": "code",
   "execution_count": 142,
   "metadata": {},
   "outputs": [],
   "source": [
    "categories_aliases = categories_aliases[categories_aliases['length_category_id'] == 2]"
   ]
  },
  {
   "cell_type": "code",
   "execution_count": 143,
   "metadata": {},
   "outputs": [
    {
     "data": {
      "text/html": [
       "<div>\n",
       "<style scoped>\n",
       "    .dataframe tbody tr th:only-of-type {\n",
       "        vertical-align: middle;\n",
       "    }\n",
       "\n",
       "    .dataframe tbody tr th {\n",
       "        vertical-align: top;\n",
       "    }\n",
       "\n",
       "    .dataframe thead th {\n",
       "        text-align: right;\n",
       "    }\n",
       "</style>\n",
       "<table border=\"1\" class=\"dataframe\">\n",
       "  <thead>\n",
       "    <tr style=\"text-align: right;\">\n",
       "      <th></th>\n",
       "      <th>category_id</th>\n",
       "      <th>alias</th>\n",
       "      <th>length_category_id</th>\n",
       "    </tr>\n",
       "  </thead>\n",
       "  <tbody>\n",
       "    <tr>\n",
       "      <th>3</th>\n",
       "      <td>[blogcategory, id=1]</td>\n",
       "      <td>news</td>\n",
       "      <td>2</td>\n",
       "    </tr>\n",
       "    <tr>\n",
       "      <th>4897</th>\n",
       "      <td>[category, id=333]</td>\n",
       "      <td>danfoss</td>\n",
       "      <td>2</td>\n",
       "    </tr>\n",
       "    <tr>\n",
       "      <th>4898</th>\n",
       "      <td>[category, id=312]</td>\n",
       "      <td>instrument_i_svarochnoe_oborudovanie</td>\n",
       "      <td>2</td>\n",
       "    </tr>\n",
       "    <tr>\n",
       "      <th>4899</th>\n",
       "      <td>[category, id=313]</td>\n",
       "      <td>vodootvedenie</td>\n",
       "      <td>2</td>\n",
       "    </tr>\n",
       "    <tr>\n",
       "      <th>4900</th>\n",
       "      <td>[category, id=314]</td>\n",
       "      <td>truboprovody_polimernye_i_soedinitelnye_chasti</td>\n",
       "      <td>2</td>\n",
       "    </tr>\n",
       "    <tr>\n",
       "      <th>...</th>\n",
       "      <td>...</td>\n",
       "      <td>...</td>\n",
       "      <td>...</td>\n",
       "    </tr>\n",
       "    <tr>\n",
       "      <th>9957</th>\n",
       "      <td>[category, id=356]</td>\n",
       "      <td>krany_stalnye_sharovye_ld_1</td>\n",
       "      <td>2</td>\n",
       "    </tr>\n",
       "    <tr>\n",
       "      <th>9958</th>\n",
       "      <td>[category, id=357]</td>\n",
       "      <td>krany_ventili_dlya_podklyucheniya_byt_tekhniki_</td>\n",
       "      <td>2</td>\n",
       "    </tr>\n",
       "    <tr>\n",
       "      <th>9959</th>\n",
       "      <td>[category, id=467]</td>\n",
       "      <td>stalnye_panelnye_radiatory_heaton</td>\n",
       "      <td>2</td>\n",
       "    </tr>\n",
       "    <tr>\n",
       "      <th>9960</th>\n",
       "      <td>[category, id=468]</td>\n",
       "      <td>truba_metalloplastikovaya_henco</td>\n",
       "      <td>2</td>\n",
       "    </tr>\n",
       "    <tr>\n",
       "      <th>9961</th>\n",
       "      <td>[category, id=465]</td>\n",
       "      <td>truby_dlya_teplogo_pola</td>\n",
       "      <td>2</td>\n",
       "    </tr>\n",
       "  </tbody>\n",
       "</table>\n",
       "<p>156 rows × 3 columns</p>\n",
       "</div>"
      ],
      "text/plain": [
       "               category_id                                            alias  \\\n",
       "3     [blogcategory, id=1]                                             news   \n",
       "4897    [category, id=333]                                          danfoss   \n",
       "4898    [category, id=312]             instrument_i_svarochnoe_oborudovanie   \n",
       "4899    [category, id=313]                                    vodootvedenie   \n",
       "4900    [category, id=314]   truboprovody_polimernye_i_soedinitelnye_chasti   \n",
       "...                    ...                                              ...   \n",
       "9957    [category, id=356]                      krany_stalnye_sharovye_ld_1   \n",
       "9958    [category, id=357]  krany_ventili_dlya_podklyucheniya_byt_tekhniki_   \n",
       "9959    [category, id=467]                stalnye_panelnye_radiatory_heaton   \n",
       "9960    [category, id=468]                  truba_metalloplastikovaya_henco   \n",
       "9961    [category, id=465]                          truby_dlya_teplogo_pola   \n",
       "\n",
       "      length_category_id  \n",
       "3                      2  \n",
       "4897                   2  \n",
       "4898                   2  \n",
       "4899                   2  \n",
       "4900                   2  \n",
       "...                  ...  \n",
       "9957                   2  \n",
       "9958                   2  \n",
       "9959                   2  \n",
       "9960                   2  \n",
       "9961                   2  \n",
       "\n",
       "[156 rows x 3 columns]"
      ]
     },
     "execution_count": 143,
     "metadata": {},
     "output_type": "execute_result"
    }
   ],
   "source": [
    "categories_aliases"
   ]
  },
  {
   "cell_type": "code",
   "execution_count": 144,
   "metadata": {},
   "outputs": [],
   "source": [
    "categories_aliases['alias'].to_csv('projects_aliases/skurala_categories_aliases.csv', index=False)"
   ]
  },
  {
   "cell_type": "markdown",
   "metadata": {},
   "source": [
    "### Карточки"
   ]
  },
  {
   "cell_type": "code",
   "execution_count": 145,
   "metadata": {},
   "outputs": [
    {
     "name": "stderr",
     "output_type": "stream",
     "text": [
      "/Users/andreytryastsin/opt/anaconda3/lib/python3.7/site-packages/pandas/core/frame.py:4304: SettingWithCopyWarning: \n",
      "A value is trying to be set on a copy of a slice from a DataFrame\n",
      "\n",
      "See the caveats in the documentation: https://pandas.pydata.org/pandas-docs/stable/user_guide/indexing.html#returning-a-view-versus-a-copy\n",
      "  errors=errors,\n"
     ]
    }
   ],
   "source": [
    "products_aliases = table_aliases[['query', 'keyword']]\n",
    "products_aliases.rename(columns = {'query':'product_id','keyword':'alias'}, inplace = True)\n",
    "filter_products = products_aliases['product_id'].str.contains('product_id')"
   ]
  },
  {
   "cell_type": "code",
   "execution_count": 146,
   "metadata": {},
   "outputs": [],
   "source": [
    "products_aliases = products_aliases[filter_products]"
   ]
  },
  {
   "cell_type": "code",
   "execution_count": 147,
   "metadata": {},
   "outputs": [
    {
     "data": {
      "text/plain": [
       "0"
      ]
     },
     "execution_count": 147,
     "metadata": {},
     "output_type": "execute_result"
    }
   ],
   "source": [
    "products_aliases.duplicated().sum()"
   ]
  },
  {
   "cell_type": "code",
   "execution_count": 148,
   "metadata": {},
   "outputs": [],
   "source": [
    "products_aliases.drop_duplicates(inplace=True)"
   ]
  },
  {
   "cell_type": "code",
   "execution_count": 149,
   "metadata": {
    "scrolled": true
   },
   "outputs": [
    {
     "data": {
      "text/html": [
       "<div>\n",
       "<style scoped>\n",
       "    .dataframe tbody tr th:only-of-type {\n",
       "        vertical-align: middle;\n",
       "    }\n",
       "\n",
       "    .dataframe tbody tr th {\n",
       "        vertical-align: top;\n",
       "    }\n",
       "\n",
       "    .dataframe thead th {\n",
       "        text-align: right;\n",
       "    }\n",
       "</style>\n",
       "<table border=\"1\" class=\"dataframe\">\n",
       "  <thead>\n",
       "    <tr style=\"text-align: right;\">\n",
       "      <th></th>\n",
       "      <th>product_id</th>\n",
       "      <th>alias</th>\n",
       "    </tr>\n",
       "  </thead>\n",
       "  <tbody>\n",
       "    <tr>\n",
       "      <th>0</th>\n",
       "      <td>product_id=93</td>\n",
       "      <td>tekhplastina_rezina_tmkshch_s_3mm</td>\n",
       "    </tr>\n",
       "    <tr>\n",
       "      <th>1</th>\n",
       "      <td>product_id=82</td>\n",
       "      <td>armatura_10_a500s_l_5_8_5_9m_1</td>\n",
       "    </tr>\n",
       "    <tr>\n",
       "      <th>2</th>\n",
       "      <td>product_id=83</td>\n",
       "      <td>armatura_12_a3_n_d</td>\n",
       "    </tr>\n",
       "    <tr>\n",
       "      <th>4</th>\n",
       "      <td>product_id=96</td>\n",
       "      <td>shpilka_otsinkovannaya_rezbovaya_m_8_2000</td>\n",
       "    </tr>\n",
       "    <tr>\n",
       "      <th>5</th>\n",
       "      <td>product_id=58</td>\n",
       "      <td>hl_98_lyuk_reviziya_s_kryshkoy_iz_nerzh_stali_...</td>\n",
       "    </tr>\n",
       "    <tr>\n",
       "      <th>...</th>\n",
       "      <td>...</td>\n",
       "      <td>...</td>\n",
       "    </tr>\n",
       "    <tr>\n",
       "      <th>9897</th>\n",
       "      <td>product_id=14072</td>\n",
       "      <td>umyvalnik_nostalzhi_550kh440_s_otverstiem_bez_...</td>\n",
       "    </tr>\n",
       "    <tr>\n",
       "      <th>9898</th>\n",
       "      <td>product_id=14075</td>\n",
       "      <td>manzhet_konusnyy_d60kh80_chernyy</td>\n",
       "    </tr>\n",
       "    <tr>\n",
       "      <th>9899</th>\n",
       "      <td>product_id=14080</td>\n",
       "      <td>gayka_m22_gost_5915_70_5927_70</td>\n",
       "    </tr>\n",
       "    <tr>\n",
       "      <th>9900</th>\n",
       "      <td>product_id=14088</td>\n",
       "      <td>shayba_ploskaya_24_gost_11371_78</td>\n",
       "    </tr>\n",
       "    <tr>\n",
       "      <th>9901</th>\n",
       "      <td>product_id=14093</td>\n",
       "      <td>podvodka_k_smesitelyu_100sm_el</td>\n",
       "    </tr>\n",
       "  </tbody>\n",
       "</table>\n",
       "<p>9742 rows × 2 columns</p>\n",
       "</div>"
      ],
      "text/plain": [
       "            product_id                                              alias\n",
       "0        product_id=93                  tekhplastina_rezina_tmkshch_s_3mm\n",
       "1        product_id=82                     armatura_10_a500s_l_5_8_5_9m_1\n",
       "2        product_id=83                                 armatura_12_a3_n_d\n",
       "4        product_id=96          shpilka_otsinkovannaya_rezbovaya_m_8_2000\n",
       "5        product_id=58  hl_98_lyuk_reviziya_s_kryshkoy_iz_nerzh_stali_...\n",
       "...                ...                                                ...\n",
       "9897  product_id=14072  umyvalnik_nostalzhi_550kh440_s_otverstiem_bez_...\n",
       "9898  product_id=14075                   manzhet_konusnyy_d60kh80_chernyy\n",
       "9899  product_id=14080                     gayka_m22_gost_5915_70_5927_70\n",
       "9900  product_id=14088                   shayba_ploskaya_24_gost_11371_78\n",
       "9901  product_id=14093                     podvodka_k_smesitelyu_100sm_el\n",
       "\n",
       "[9742 rows x 2 columns]"
      ]
     },
     "execution_count": 149,
     "metadata": {},
     "output_type": "execute_result"
    }
   ],
   "source": [
    "products_aliases"
   ]
  },
  {
   "cell_type": "code",
   "execution_count": 150,
   "metadata": {},
   "outputs": [],
   "source": [
    "products_aliases['alias'].to_csv('projects_aliases/skurala_products_aliases.csv', index=False)"
   ]
  },
  {
   "cell_type": "code",
   "execution_count": null,
   "metadata": {},
   "outputs": [],
   "source": []
  },
  {
   "cell_type": "markdown",
   "metadata": {},
   "source": [
    "## EliteWheels"
   ]
  },
  {
   "cell_type": "code",
   "execution_count": 160,
   "metadata": {},
   "outputs": [],
   "source": [
    "table_aliases_catalog = pd.read_csv('projects_tables_with_aliases/ew_oc_seo_url.csv')\n",
    "table_aliases_filter = pd.read_csv('projects_tables_with_aliases/ew_oc_mfilter_url_alias.csv')"
   ]
  },
  {
   "cell_type": "markdown",
   "metadata": {},
   "source": [
    "### Категории"
   ]
  },
  {
   "cell_type": "code",
   "execution_count": 161,
   "metadata": {},
   "outputs": [
    {
     "name": "stderr",
     "output_type": "stream",
     "text": [
      "/Users/andreytryastsin/opt/anaconda3/lib/python3.7/site-packages/pandas/core/frame.py:4304: SettingWithCopyWarning: \n",
      "A value is trying to be set on a copy of a slice from a DataFrame\n",
      "\n",
      "See the caveats in the documentation: https://pandas.pydata.org/pandas-docs/stable/user_guide/indexing.html#returning-a-view-versus-a-copy\n",
      "  errors=errors,\n"
     ]
    }
   ],
   "source": [
    "categories_aliases = table_aliases_catalog[['query', 'keyword']]\n",
    "categories_aliases.rename(columns = {'query':'category_id','keyword':'alias'}, inplace = True)\n",
    "filter_categories = categories_aliases['category_id'].str.contains('category_id')"
   ]
  },
  {
   "cell_type": "code",
   "execution_count": 162,
   "metadata": {},
   "outputs": [],
   "source": [
    "categories_aliases = categories_aliases[filter_categories]"
   ]
  },
  {
   "cell_type": "code",
   "execution_count": 163,
   "metadata": {},
   "outputs": [
    {
     "data": {
      "text/plain": [
       "0"
      ]
     },
     "execution_count": 163,
     "metadata": {},
     "output_type": "execute_result"
    }
   ],
   "source": [
    "categories_aliases.duplicated().sum()"
   ]
  },
  {
   "cell_type": "code",
   "execution_count": 164,
   "metadata": {},
   "outputs": [],
   "source": [
    "categories_aliases.drop_duplicates(inplace=True)"
   ]
  },
  {
   "cell_type": "code",
   "execution_count": 165,
   "metadata": {},
   "outputs": [],
   "source": [
    "categories_aliases['category_id'] = categories_aliases['category_id'].apply(lambda x: x.split('_'))"
   ]
  },
  {
   "cell_type": "code",
   "execution_count": 166,
   "metadata": {},
   "outputs": [],
   "source": [
    "categories_aliases['length_category_id'] = categories_aliases['category_id'].apply(lambda x: len(x))"
   ]
  },
  {
   "cell_type": "code",
   "execution_count": 167,
   "metadata": {},
   "outputs": [],
   "source": [
    "categories_aliases = categories_aliases[categories_aliases['length_category_id'] == 2]"
   ]
  },
  {
   "cell_type": "code",
   "execution_count": 168,
   "metadata": {},
   "outputs": [
    {
     "data": {
      "text/html": [
       "<div>\n",
       "<style scoped>\n",
       "    .dataframe tbody tr th:only-of-type {\n",
       "        vertical-align: middle;\n",
       "    }\n",
       "\n",
       "    .dataframe tbody tr th {\n",
       "        vertical-align: top;\n",
       "    }\n",
       "\n",
       "    .dataframe thead th {\n",
       "        text-align: right;\n",
       "    }\n",
       "</style>\n",
       "<table border=\"1\" class=\"dataframe\">\n",
       "  <thead>\n",
       "    <tr style=\"text-align: right;\">\n",
       "      <th></th>\n",
       "      <th>category_id</th>\n",
       "      <th>alias</th>\n",
       "      <th>length_category_id</th>\n",
       "    </tr>\n",
       "  </thead>\n",
       "  <tbody>\n",
       "    <tr>\n",
       "      <th>36</th>\n",
       "      <td>[category, id=34761]</td>\n",
       "      <td>kolesnie-diski-neo-814</td>\n",
       "      <td>2</td>\n",
       "    </tr>\n",
       "    <tr>\n",
       "      <th>64</th>\n",
       "      <td>[category, id=34762]</td>\n",
       "      <td>kolesnie-diski-pdw-rs2</td>\n",
       "      <td>2</td>\n",
       "    </tr>\n",
       "    <tr>\n",
       "      <th>101</th>\n",
       "      <td>[category, id=23257]</td>\n",
       "      <td>legkovye-shiny-centara-vanti-taxi</td>\n",
       "      <td>2</td>\n",
       "    </tr>\n",
       "    <tr>\n",
       "      <th>106</th>\n",
       "      <td>[category, id=23265]</td>\n",
       "      <td>legkovye-shiny-hankook-winter-radial-dw04</td>\n",
       "      <td>2</td>\n",
       "    </tr>\n",
       "    <tr>\n",
       "      <th>107</th>\n",
       "      <td>[category, id=23264]</td>\n",
       "      <td>legkovye-shiny-goodyear-wrangler-s</td>\n",
       "      <td>2</td>\n",
       "    </tr>\n",
       "    <tr>\n",
       "      <th>...</th>\n",
       "      <td>...</td>\n",
       "      <td>...</td>\n",
       "      <td>...</td>\n",
       "    </tr>\n",
       "    <tr>\n",
       "      <th>102543</th>\n",
       "      <td>[category, id=34868]</td>\n",
       "      <td>legkovie-shini-gt-radial-sportactive-2-suv</td>\n",
       "      <td>2</td>\n",
       "    </tr>\n",
       "    <tr>\n",
       "      <th>102774</th>\n",
       "      <td>[category, id=34869]</td>\n",
       "      <td>legkovie-shini-contyre-cross-road</td>\n",
       "      <td>2</td>\n",
       "    </tr>\n",
       "    <tr>\n",
       "      <th>102789</th>\n",
       "      <td>[category, id=34870]</td>\n",
       "      <td>kolesnie-diski-carwel-tobol</td>\n",
       "      <td>2</td>\n",
       "    </tr>\n",
       "    <tr>\n",
       "      <th>102823</th>\n",
       "      <td>[category, id=34871]</td>\n",
       "      <td>legkovie-shini-cordiant-business-cs2</td>\n",
       "      <td>2</td>\n",
       "    </tr>\n",
       "    <tr>\n",
       "      <th>102901</th>\n",
       "      <td>[category, id=34872]</td>\n",
       "      <td>kolesnie-diski-xtrike-x-133</td>\n",
       "      <td>2</td>\n",
       "    </tr>\n",
       "  </tbody>\n",
       "</table>\n",
       "<p>14235 rows × 3 columns</p>\n",
       "</div>"
      ],
      "text/plain": [
       "                 category_id                                       alias  \\\n",
       "36      [category, id=34761]                      kolesnie-diski-neo-814   \n",
       "64      [category, id=34762]                      kolesnie-diski-pdw-rs2   \n",
       "101     [category, id=23257]           legkovye-shiny-centara-vanti-taxi   \n",
       "106     [category, id=23265]   legkovye-shiny-hankook-winter-radial-dw04   \n",
       "107     [category, id=23264]          legkovye-shiny-goodyear-wrangler-s   \n",
       "...                      ...                                         ...   \n",
       "102543  [category, id=34868]  legkovie-shini-gt-radial-sportactive-2-suv   \n",
       "102774  [category, id=34869]           legkovie-shini-contyre-cross-road   \n",
       "102789  [category, id=34870]                 kolesnie-diski-carwel-tobol   \n",
       "102823  [category, id=34871]        legkovie-shini-cordiant-business-cs2   \n",
       "102901  [category, id=34872]                 kolesnie-diski-xtrike-x-133   \n",
       "\n",
       "        length_category_id  \n",
       "36                       2  \n",
       "64                       2  \n",
       "101                      2  \n",
       "106                      2  \n",
       "107                      2  \n",
       "...                    ...  \n",
       "102543                   2  \n",
       "102774                   2  \n",
       "102789                   2  \n",
       "102823                   2  \n",
       "102901                   2  \n",
       "\n",
       "[14235 rows x 3 columns]"
      ]
     },
     "execution_count": 168,
     "metadata": {},
     "output_type": "execute_result"
    }
   ],
   "source": [
    "categories_aliases"
   ]
  },
  {
   "cell_type": "code",
   "execution_count": 169,
   "metadata": {},
   "outputs": [],
   "source": [
    "categories_aliases['alias'].to_csv('projects_aliases/ew_categories_aliases.csv', index=False)"
   ]
  },
  {
   "cell_type": "markdown",
   "metadata": {},
   "source": [
    "### Карточки"
   ]
  },
  {
   "cell_type": "code",
   "execution_count": 170,
   "metadata": {},
   "outputs": [
    {
     "name": "stderr",
     "output_type": "stream",
     "text": [
      "/Users/andreytryastsin/opt/anaconda3/lib/python3.7/site-packages/pandas/core/frame.py:4304: SettingWithCopyWarning: \n",
      "A value is trying to be set on a copy of a slice from a DataFrame\n",
      "\n",
      "See the caveats in the documentation: https://pandas.pydata.org/pandas-docs/stable/user_guide/indexing.html#returning-a-view-versus-a-copy\n",
      "  errors=errors,\n"
     ]
    }
   ],
   "source": [
    "products_aliases = table_aliases_catalog[['query', 'keyword']]\n",
    "products_aliases.rename(columns = {'query':'product_id','keyword':'alias'}, inplace = True)\n",
    "filter_products = products_aliases['product_id'].str.contains('product_id')"
   ]
  },
  {
   "cell_type": "code",
   "execution_count": 171,
   "metadata": {},
   "outputs": [],
   "source": [
    "products_aliases = products_aliases[filter_products]"
   ]
  },
  {
   "cell_type": "code",
   "execution_count": 172,
   "metadata": {},
   "outputs": [
    {
     "data": {
      "text/plain": [
       "0"
      ]
     },
     "execution_count": 172,
     "metadata": {},
     "output_type": "execute_result"
    }
   ],
   "source": [
    "products_aliases.duplicated().sum()"
   ]
  },
  {
   "cell_type": "code",
   "execution_count": 173,
   "metadata": {},
   "outputs": [],
   "source": [
    "products_aliases.drop_duplicates(inplace=True)"
   ]
  },
  {
   "cell_type": "code",
   "execution_count": 174,
   "metadata": {
    "scrolled": true
   },
   "outputs": [
    {
     "data": {
      "text/html": [
       "<div>\n",
       "<style scoped>\n",
       "    .dataframe tbody tr th:only-of-type {\n",
       "        vertical-align: middle;\n",
       "    }\n",
       "\n",
       "    .dataframe tbody tr th {\n",
       "        vertical-align: top;\n",
       "    }\n",
       "\n",
       "    .dataframe thead th {\n",
       "        text-align: right;\n",
       "    }\n",
       "</style>\n",
       "<table border=\"1\" class=\"dataframe\">\n",
       "  <thead>\n",
       "    <tr style=\"text-align: right;\">\n",
       "      <th></th>\n",
       "      <th>product_id</th>\n",
       "      <th>alias</th>\n",
       "    </tr>\n",
       "  </thead>\n",
       "  <tbody>\n",
       "    <tr>\n",
       "      <th>0</th>\n",
       "      <td>product_id=140382</td>\n",
       "      <td>vsesezonnie-shini-bfgoodrich-all-terrain-t-a-k...</td>\n",
       "    </tr>\n",
       "    <tr>\n",
       "      <th>2</th>\n",
       "      <td>product_id=140396</td>\n",
       "      <td>litie-kolesnie-diski-neo-509-6x15-4x114-3-et45...</td>\n",
       "    </tr>\n",
       "    <tr>\n",
       "      <th>3</th>\n",
       "      <td>product_id=140395</td>\n",
       "      <td>litie-kolesnie-diski-tech-line-530-6x15-4x114-...</td>\n",
       "    </tr>\n",
       "    <tr>\n",
       "      <th>4</th>\n",
       "      <td>product_id=140394</td>\n",
       "      <td>litie-kolesnie-diski-tech-line-410-5-5x14-4x98...</td>\n",
       "    </tr>\n",
       "    <tr>\n",
       "      <th>5</th>\n",
       "      <td>product_id=140393</td>\n",
       "      <td>letnie-shini-marshal-crugen-premium-kl33-245-5...</td>\n",
       "    </tr>\n",
       "    <tr>\n",
       "      <th>...</th>\n",
       "      <td>...</td>\n",
       "      <td>...</td>\n",
       "    </tr>\n",
       "    <tr>\n",
       "      <th>102982</th>\n",
       "      <td>product_id=142549</td>\n",
       "      <td>litie-kolesnie-diski-inforged-ifg34-8x18-5x112...</td>\n",
       "    </tr>\n",
       "    <tr>\n",
       "      <th>102983</th>\n",
       "      <td>product_id=142550</td>\n",
       "      <td>litie-kolesnie-diski-inforged-ifg66-8x18-5x112...</td>\n",
       "    </tr>\n",
       "    <tr>\n",
       "      <th>102984</th>\n",
       "      <td>product_id=142551</td>\n",
       "      <td>litie-kolesnie-diski-inforged-ifg66-8x18-5x114...</td>\n",
       "    </tr>\n",
       "    <tr>\n",
       "      <th>102985</th>\n",
       "      <td>product_id=142552</td>\n",
       "      <td>litie-kolesnie-diski-inforged-ifg66-8x18-5x114...</td>\n",
       "    </tr>\n",
       "    <tr>\n",
       "      <th>102986</th>\n",
       "      <td>product_id=142553</td>\n",
       "      <td>litie-kolesnie-diski-inforged-ifg34-8x18-5x114...</td>\n",
       "    </tr>\n",
       "  </tbody>\n",
       "</table>\n",
       "<p>88729 rows × 2 columns</p>\n",
       "</div>"
      ],
      "text/plain": [
       "               product_id                                              alias\n",
       "0       product_id=140382  vsesezonnie-shini-bfgoodrich-all-terrain-t-a-k...\n",
       "2       product_id=140396  litie-kolesnie-diski-neo-509-6x15-4x114-3-et45...\n",
       "3       product_id=140395  litie-kolesnie-diski-tech-line-530-6x15-4x114-...\n",
       "4       product_id=140394  litie-kolesnie-diski-tech-line-410-5-5x14-4x98...\n",
       "5       product_id=140393  letnie-shini-marshal-crugen-premium-kl33-245-5...\n",
       "...                   ...                                                ...\n",
       "102982  product_id=142549  litie-kolesnie-diski-inforged-ifg34-8x18-5x112...\n",
       "102983  product_id=142550  litie-kolesnie-diski-inforged-ifg66-8x18-5x112...\n",
       "102984  product_id=142551  litie-kolesnie-diski-inforged-ifg66-8x18-5x114...\n",
       "102985  product_id=142552  litie-kolesnie-diski-inforged-ifg66-8x18-5x114...\n",
       "102986  product_id=142553  litie-kolesnie-diski-inforged-ifg34-8x18-5x114...\n",
       "\n",
       "[88729 rows x 2 columns]"
      ]
     },
     "execution_count": 174,
     "metadata": {},
     "output_type": "execute_result"
    }
   ],
   "source": [
    "products_aliases"
   ]
  },
  {
   "cell_type": "code",
   "execution_count": 175,
   "metadata": {},
   "outputs": [],
   "source": [
    "products_aliases['alias'].to_csv('projects_aliases/ew_products_aliases.csv', index=False)"
   ]
  },
  {
   "cell_type": "markdown",
   "metadata": {},
   "source": [
    "### Фильтры"
   ]
  },
  {
   "cell_type": "code",
   "execution_count": 177,
   "metadata": {},
   "outputs": [],
   "source": [
    "table_aliases_filter['alias'].to_csv('projects_aliases/ew_filters_aliases.csv', index=False)"
   ]
  },
  {
   "cell_type": "code",
   "execution_count": null,
   "metadata": {},
   "outputs": [],
   "source": []
  },
  {
   "cell_type": "markdown",
   "metadata": {},
   "source": [
    "## EliteWheels MSK"
   ]
  },
  {
   "cell_type": "code",
   "execution_count": 231,
   "metadata": {},
   "outputs": [],
   "source": [
    "table_aliases_catalog = pd.read_csv('projects_tables_with_aliases/ew_msk_oc_seo_url.csv')\n",
    "table_aliases_filter = pd.read_csv('projects_tables_with_aliases/ew_msk_oc_mfilter_url_alias.csv')"
   ]
  },
  {
   "cell_type": "markdown",
   "metadata": {},
   "source": [
    "### Категории"
   ]
  },
  {
   "cell_type": "code",
   "execution_count": 232,
   "metadata": {},
   "outputs": [
    {
     "name": "stderr",
     "output_type": "stream",
     "text": [
      "/Users/andreytryastsin/opt/anaconda3/lib/python3.7/site-packages/pandas/core/frame.py:4304: SettingWithCopyWarning: \n",
      "A value is trying to be set on a copy of a slice from a DataFrame\n",
      "\n",
      "See the caveats in the documentation: https://pandas.pydata.org/pandas-docs/stable/user_guide/indexing.html#returning-a-view-versus-a-copy\n",
      "  errors=errors,\n"
     ]
    }
   ],
   "source": [
    "categories_aliases = table_aliases_catalog[['query', 'keyword']]\n",
    "categories_aliases.rename(columns = {'query':'category_id','keyword':'alias'}, inplace = True)\n",
    "filter_categories = categories_aliases['category_id'].str.contains('category_id')"
   ]
  },
  {
   "cell_type": "code",
   "execution_count": 233,
   "metadata": {},
   "outputs": [],
   "source": [
    "categories_aliases = categories_aliases[filter_categories]"
   ]
  },
  {
   "cell_type": "code",
   "execution_count": 234,
   "metadata": {},
   "outputs": [
    {
     "data": {
      "text/plain": [
       "0"
      ]
     },
     "execution_count": 234,
     "metadata": {},
     "output_type": "execute_result"
    }
   ],
   "source": [
    "categories_aliases.duplicated().sum()"
   ]
  },
  {
   "cell_type": "code",
   "execution_count": 235,
   "metadata": {},
   "outputs": [],
   "source": [
    "categories_aliases.drop_duplicates(inplace=True)"
   ]
  },
  {
   "cell_type": "code",
   "execution_count": 236,
   "metadata": {},
   "outputs": [],
   "source": [
    "categories_aliases['category_id'] = categories_aliases['category_id'].apply(lambda x: x.split('_'))"
   ]
  },
  {
   "cell_type": "code",
   "execution_count": 237,
   "metadata": {},
   "outputs": [],
   "source": [
    "categories_aliases['length_category_id'] = categories_aliases['category_id'].apply(lambda x: len(x))"
   ]
  },
  {
   "cell_type": "code",
   "execution_count": 238,
   "metadata": {},
   "outputs": [],
   "source": [
    "categories_aliases = categories_aliases[categories_aliases['length_category_id'] == 2]"
   ]
  },
  {
   "cell_type": "code",
   "execution_count": 239,
   "metadata": {},
   "outputs": [
    {
     "data": {
      "text/html": [
       "<div>\n",
       "<style scoped>\n",
       "    .dataframe tbody tr th:only-of-type {\n",
       "        vertical-align: middle;\n",
       "    }\n",
       "\n",
       "    .dataframe tbody tr th {\n",
       "        vertical-align: top;\n",
       "    }\n",
       "\n",
       "    .dataframe thead th {\n",
       "        text-align: right;\n",
       "    }\n",
       "</style>\n",
       "<table border=\"1\" class=\"dataframe\">\n",
       "  <thead>\n",
       "    <tr style=\"text-align: right;\">\n",
       "      <th></th>\n",
       "      <th>category_id</th>\n",
       "      <th>alias</th>\n",
       "      <th>length_category_id</th>\n",
       "    </tr>\n",
       "  </thead>\n",
       "  <tbody>\n",
       "    <tr>\n",
       "      <th>83</th>\n",
       "      <td>[category, id=34678]</td>\n",
       "      <td>legkovie-shini-marshal-crugen-premium-kl33</td>\n",
       "      <td>2</td>\n",
       "    </tr>\n",
       "    <tr>\n",
       "      <th>100</th>\n",
       "      <td>[category, id=23257]</td>\n",
       "      <td>legkovye-shiny-centara-vanti-taxi</td>\n",
       "      <td>2</td>\n",
       "    </tr>\n",
       "    <tr>\n",
       "      <th>105</th>\n",
       "      <td>[category, id=23265]</td>\n",
       "      <td>legkovye-shiny-hankook-winter-radial-dw04</td>\n",
       "      <td>2</td>\n",
       "    </tr>\n",
       "    <tr>\n",
       "      <th>106</th>\n",
       "      <td>[category, id=23264]</td>\n",
       "      <td>legkovye-shiny-goodyear-wrangler-s</td>\n",
       "      <td>2</td>\n",
       "    </tr>\n",
       "    <tr>\n",
       "      <th>113</th>\n",
       "      <td>[category, id=23263]</td>\n",
       "      <td>legkovye-shiny-nokian-hakkapeliitta-10p</td>\n",
       "      <td>2</td>\n",
       "    </tr>\n",
       "    <tr>\n",
       "      <th>...</th>\n",
       "      <td>...</td>\n",
       "      <td>...</td>\n",
       "      <td>...</td>\n",
       "    </tr>\n",
       "    <tr>\n",
       "      <th>100274</th>\n",
       "      <td>[category, id=34700]</td>\n",
       "      <td>legkovie-shini-aosen</td>\n",
       "      <td>2</td>\n",
       "    </tr>\n",
       "    <tr>\n",
       "      <th>100275</th>\n",
       "      <td>[category, id=34701]</td>\n",
       "      <td>legkovie-shini-aosen-hh301</td>\n",
       "      <td>2</td>\n",
       "    </tr>\n",
       "    <tr>\n",
       "      <th>100277</th>\n",
       "      <td>[category, id=34702]</td>\n",
       "      <td>legkovie-shini-aosen-hu901</td>\n",
       "      <td>2</td>\n",
       "    </tr>\n",
       "    <tr>\n",
       "      <th>100352</th>\n",
       "      <td>[category, id=34703]</td>\n",
       "      <td>kolesnie-diski-replica-h-bm98</td>\n",
       "      <td>2</td>\n",
       "    </tr>\n",
       "    <tr>\n",
       "      <th>100371</th>\n",
       "      <td>[category, id=34704]</td>\n",
       "      <td>legkovie-shini-continental-vancontact-a-s-ultra</td>\n",
       "      <td>2</td>\n",
       "    </tr>\n",
       "  </tbody>\n",
       "</table>\n",
       "<p>14072 rows × 3 columns</p>\n",
       "</div>"
      ],
      "text/plain": [
       "                 category_id                                            alias  \\\n",
       "83      [category, id=34678]       legkovie-shini-marshal-crugen-premium-kl33   \n",
       "100     [category, id=23257]                legkovye-shiny-centara-vanti-taxi   \n",
       "105     [category, id=23265]        legkovye-shiny-hankook-winter-radial-dw04   \n",
       "106     [category, id=23264]               legkovye-shiny-goodyear-wrangler-s   \n",
       "113     [category, id=23263]          legkovye-shiny-nokian-hakkapeliitta-10p   \n",
       "...                      ...                                              ...   \n",
       "100274  [category, id=34700]                             legkovie-shini-aosen   \n",
       "100275  [category, id=34701]                       legkovie-shini-aosen-hh301   \n",
       "100277  [category, id=34702]                       legkovie-shini-aosen-hu901   \n",
       "100352  [category, id=34703]                    kolesnie-diski-replica-h-bm98   \n",
       "100371  [category, id=34704]  legkovie-shini-continental-vancontact-a-s-ultra   \n",
       "\n",
       "        length_category_id  \n",
       "83                       2  \n",
       "100                      2  \n",
       "105                      2  \n",
       "106                      2  \n",
       "113                      2  \n",
       "...                    ...  \n",
       "100274                   2  \n",
       "100275                   2  \n",
       "100277                   2  \n",
       "100352                   2  \n",
       "100371                   2  \n",
       "\n",
       "[14072 rows x 3 columns]"
      ]
     },
     "execution_count": 239,
     "metadata": {},
     "output_type": "execute_result"
    }
   ],
   "source": [
    "categories_aliases"
   ]
  },
  {
   "cell_type": "code",
   "execution_count": 240,
   "metadata": {},
   "outputs": [],
   "source": [
    "categories_aliases['alias'].to_csv('projects_aliases/ew_msk_categories_aliases.csv', index=False)"
   ]
  },
  {
   "cell_type": "markdown",
   "metadata": {},
   "source": [
    "### Карточки"
   ]
  },
  {
   "cell_type": "code",
   "execution_count": 241,
   "metadata": {},
   "outputs": [
    {
     "name": "stderr",
     "output_type": "stream",
     "text": [
      "/Users/andreytryastsin/opt/anaconda3/lib/python3.7/site-packages/pandas/core/frame.py:4304: SettingWithCopyWarning: \n",
      "A value is trying to be set on a copy of a slice from a DataFrame\n",
      "\n",
      "See the caveats in the documentation: https://pandas.pydata.org/pandas-docs/stable/user_guide/indexing.html#returning-a-view-versus-a-copy\n",
      "  errors=errors,\n"
     ]
    }
   ],
   "source": [
    "products_aliases = table_aliases_catalog[['query', 'keyword']]\n",
    "products_aliases.rename(columns = {'query':'product_id','keyword':'alias'}, inplace = True)\n",
    "filter_products = products_aliases['product_id'].str.contains('product_id')"
   ]
  },
  {
   "cell_type": "code",
   "execution_count": 242,
   "metadata": {},
   "outputs": [],
   "source": [
    "products_aliases = products_aliases[filter_products]"
   ]
  },
  {
   "cell_type": "code",
   "execution_count": 243,
   "metadata": {},
   "outputs": [
    {
     "data": {
      "text/plain": [
       "0"
      ]
     },
     "execution_count": 243,
     "metadata": {},
     "output_type": "execute_result"
    }
   ],
   "source": [
    "products_aliases.duplicated().sum()"
   ]
  },
  {
   "cell_type": "code",
   "execution_count": 244,
   "metadata": {},
   "outputs": [],
   "source": [
    "products_aliases.drop_duplicates(inplace=True)"
   ]
  },
  {
   "cell_type": "code",
   "execution_count": 245,
   "metadata": {
    "scrolled": true
   },
   "outputs": [
    {
     "data": {
      "text/html": [
       "<div>\n",
       "<style scoped>\n",
       "    .dataframe tbody tr th:only-of-type {\n",
       "        vertical-align: middle;\n",
       "    }\n",
       "\n",
       "    .dataframe tbody tr th {\n",
       "        vertical-align: top;\n",
       "    }\n",
       "\n",
       "    .dataframe thead th {\n",
       "        text-align: right;\n",
       "    }\n",
       "</style>\n",
       "<table border=\"1\" class=\"dataframe\">\n",
       "  <thead>\n",
       "    <tr style=\"text-align: right;\">\n",
       "      <th></th>\n",
       "      <th>product_id</th>\n",
       "      <th>alias</th>\n",
       "    </tr>\n",
       "  </thead>\n",
       "  <tbody>\n",
       "    <tr>\n",
       "      <th>1</th>\n",
       "      <td>product_id=138755</td>\n",
       "      <td>letnie-shini-continental-premiumcontact-6-225-...</td>\n",
       "    </tr>\n",
       "    <tr>\n",
       "      <th>2</th>\n",
       "      <td>product_id=138797</td>\n",
       "      <td>litie-kolesnie-diski-skad-tirion-6-5x16-5x100-...</td>\n",
       "    </tr>\n",
       "    <tr>\n",
       "      <th>3</th>\n",
       "      <td>product_id=138796</td>\n",
       "      <td>litie-kolesnie-diski-skad-marsel-7x17-5x105-et...</td>\n",
       "    </tr>\n",
       "    <tr>\n",
       "      <th>4</th>\n",
       "      <td>product_id=138795</td>\n",
       "      <td>litie-kolesnie-diski-replica-concept-pr521-9-5...</td>\n",
       "    </tr>\n",
       "    <tr>\n",
       "      <th>5</th>\n",
       "      <td>product_id=138794</td>\n",
       "      <td>litie-kolesnie-diski-skad-pantera-6x15-4x100-e...</td>\n",
       "    </tr>\n",
       "    <tr>\n",
       "      <th>...</th>\n",
       "      <td>...</td>\n",
       "      <td>...</td>\n",
       "    </tr>\n",
       "    <tr>\n",
       "      <th>100476</th>\n",
       "      <td>product_id=140026</td>\n",
       "      <td>letnie-shini-nexen-npriz-ah8-215-50-r18-92h-t6...</td>\n",
       "    </tr>\n",
       "    <tr>\n",
       "      <th>100477</th>\n",
       "      <td>product_id=140027</td>\n",
       "      <td>letnie-shini-aosen-hu901-215-55-r17-98w-t673653</td>\n",
       "    </tr>\n",
       "    <tr>\n",
       "      <th>100478</th>\n",
       "      <td>product_id=140028</td>\n",
       "      <td>letnie-shini-delinte-dh2-255-35-r18-94w-t673654</td>\n",
       "    </tr>\n",
       "    <tr>\n",
       "      <th>100479</th>\n",
       "      <td>product_id=140029</td>\n",
       "      <td>litie-kolesnie-diski-khomen-double-spoke-603-6...</td>\n",
       "    </tr>\n",
       "    <tr>\n",
       "      <th>100480</th>\n",
       "      <td>product_id=140030</td>\n",
       "      <td>litie-kolesnie-diski-khomen-knw-1608-6-5x16-5x...</td>\n",
       "    </tr>\n",
       "  </tbody>\n",
       "</table>\n",
       "<p>86386 rows × 2 columns</p>\n",
       "</div>"
      ],
      "text/plain": [
       "               product_id                                              alias\n",
       "1       product_id=138755  letnie-shini-continental-premiumcontact-6-225-...\n",
       "2       product_id=138797  litie-kolesnie-diski-skad-tirion-6-5x16-5x100-...\n",
       "3       product_id=138796  litie-kolesnie-diski-skad-marsel-7x17-5x105-et...\n",
       "4       product_id=138795  litie-kolesnie-diski-replica-concept-pr521-9-5...\n",
       "5       product_id=138794  litie-kolesnie-diski-skad-pantera-6x15-4x100-e...\n",
       "...                   ...                                                ...\n",
       "100476  product_id=140026  letnie-shini-nexen-npriz-ah8-215-50-r18-92h-t6...\n",
       "100477  product_id=140027    letnie-shini-aosen-hu901-215-55-r17-98w-t673653\n",
       "100478  product_id=140028    letnie-shini-delinte-dh2-255-35-r18-94w-t673654\n",
       "100479  product_id=140029  litie-kolesnie-diski-khomen-double-spoke-603-6...\n",
       "100480  product_id=140030  litie-kolesnie-diski-khomen-knw-1608-6-5x16-5x...\n",
       "\n",
       "[86386 rows x 2 columns]"
      ]
     },
     "execution_count": 245,
     "metadata": {},
     "output_type": "execute_result"
    }
   ],
   "source": [
    "products_aliases"
   ]
  },
  {
   "cell_type": "code",
   "execution_count": 246,
   "metadata": {},
   "outputs": [],
   "source": [
    "products_aliases['alias'].to_csv('projects_aliases/ew_msk_products_aliases.csv', index=False)"
   ]
  },
  {
   "cell_type": "markdown",
   "metadata": {},
   "source": [
    "### Фильтры"
   ]
  },
  {
   "cell_type": "code",
   "execution_count": 247,
   "metadata": {},
   "outputs": [],
   "source": [
    "table_aliases_filter['alias'].to_csv('projects_aliases/ew_msk_filters_aliases.csv', index=False)"
   ]
  },
  {
   "cell_type": "code",
   "execution_count": null,
   "metadata": {},
   "outputs": [],
   "source": []
  },
  {
   "cell_type": "markdown",
   "metadata": {},
   "source": [
    "## Kolesa-v-Pitere"
   ]
  },
  {
   "cell_type": "code",
   "execution_count": 178,
   "metadata": {},
   "outputs": [],
   "source": [
    "table_aliases_catalog = pd.read_csv('projects_tables_with_aliases/kvp_oc_seo_url.csv')\n",
    "table_aliases_filter = pd.read_csv('projects_tables_with_aliases/kvp_oc_mfilter_url_alias.csv')"
   ]
  },
  {
   "cell_type": "markdown",
   "metadata": {},
   "source": [
    "### Категории"
   ]
  },
  {
   "cell_type": "code",
   "execution_count": 179,
   "metadata": {},
   "outputs": [
    {
     "name": "stderr",
     "output_type": "stream",
     "text": [
      "/Users/andreytryastsin/opt/anaconda3/lib/python3.7/site-packages/pandas/core/frame.py:4304: SettingWithCopyWarning: \n",
      "A value is trying to be set on a copy of a slice from a DataFrame\n",
      "\n",
      "See the caveats in the documentation: https://pandas.pydata.org/pandas-docs/stable/user_guide/indexing.html#returning-a-view-versus-a-copy\n",
      "  errors=errors,\n"
     ]
    }
   ],
   "source": [
    "categories_aliases = table_aliases_catalog[['query', 'keyword']]\n",
    "categories_aliases.rename(columns = {'query':'category_id','keyword':'alias'}, inplace = True)\n",
    "filter_categories = categories_aliases['category_id'].str.contains('category_id')"
   ]
  },
  {
   "cell_type": "code",
   "execution_count": 180,
   "metadata": {},
   "outputs": [],
   "source": [
    "categories_aliases = categories_aliases[filter_categories]"
   ]
  },
  {
   "cell_type": "code",
   "execution_count": 181,
   "metadata": {},
   "outputs": [
    {
     "data": {
      "text/plain": [
       "0"
      ]
     },
     "execution_count": 181,
     "metadata": {},
     "output_type": "execute_result"
    }
   ],
   "source": [
    "categories_aliases.duplicated().sum()"
   ]
  },
  {
   "cell_type": "code",
   "execution_count": 182,
   "metadata": {},
   "outputs": [],
   "source": [
    "categories_aliases.drop_duplicates(inplace=True)"
   ]
  },
  {
   "cell_type": "code",
   "execution_count": 183,
   "metadata": {},
   "outputs": [],
   "source": [
    "categories_aliases['category_id'] = categories_aliases['category_id'].apply(lambda x: x.split('_'))"
   ]
  },
  {
   "cell_type": "code",
   "execution_count": 184,
   "metadata": {},
   "outputs": [],
   "source": [
    "categories_aliases['length_category_id'] = categories_aliases['category_id'].apply(lambda x: len(x))"
   ]
  },
  {
   "cell_type": "code",
   "execution_count": 185,
   "metadata": {},
   "outputs": [],
   "source": [
    "categories_aliases = categories_aliases[categories_aliases['length_category_id'] == 2]"
   ]
  },
  {
   "cell_type": "code",
   "execution_count": 186,
   "metadata": {},
   "outputs": [
    {
     "data": {
      "text/html": [
       "<div>\n",
       "<style scoped>\n",
       "    .dataframe tbody tr th:only-of-type {\n",
       "        vertical-align: middle;\n",
       "    }\n",
       "\n",
       "    .dataframe tbody tr th {\n",
       "        vertical-align: top;\n",
       "    }\n",
       "\n",
       "    .dataframe thead th {\n",
       "        text-align: right;\n",
       "    }\n",
       "</style>\n",
       "<table border=\"1\" class=\"dataframe\">\n",
       "  <thead>\n",
       "    <tr style=\"text-align: right;\">\n",
       "      <th></th>\n",
       "      <th>category_id</th>\n",
       "      <th>alias</th>\n",
       "      <th>length_category_id</th>\n",
       "    </tr>\n",
       "  </thead>\n",
       "  <tbody>\n",
       "    <tr>\n",
       "      <th>7</th>\n",
       "      <td>[category, id=59]</td>\n",
       "      <td>legkovye-shiny</td>\n",
       "      <td>2</td>\n",
       "    </tr>\n",
       "    <tr>\n",
       "      <th>8</th>\n",
       "      <td>[category, id=60]</td>\n",
       "      <td>zimnie-shiny</td>\n",
       "      <td>2</td>\n",
       "    </tr>\n",
       "    <tr>\n",
       "      <th>9</th>\n",
       "      <td>[category, id=61]</td>\n",
       "      <td>letnie-shiny</td>\n",
       "      <td>2</td>\n",
       "    </tr>\n",
       "    <tr>\n",
       "      <th>10</th>\n",
       "      <td>[category, id=66]</td>\n",
       "      <td>kolesnye-diski</td>\n",
       "      <td>2</td>\n",
       "    </tr>\n",
       "    <tr>\n",
       "      <th>11</th>\n",
       "      <td>[category, id=67]</td>\n",
       "      <td>litye-diski</td>\n",
       "      <td>2</td>\n",
       "    </tr>\n",
       "    <tr>\n",
       "      <th>...</th>\n",
       "      <td>...</td>\n",
       "      <td>...</td>\n",
       "      <td>...</td>\n",
       "    </tr>\n",
       "    <tr>\n",
       "      <th>73633</th>\n",
       "      <td>[category, id=23417]</td>\n",
       "      <td>replay-hnd239</td>\n",
       "      <td>2</td>\n",
       "    </tr>\n",
       "    <tr>\n",
       "      <th>73634</th>\n",
       "      <td>[category, id=23418]</td>\n",
       "      <td>replay-lx125</td>\n",
       "      <td>2</td>\n",
       "    </tr>\n",
       "    <tr>\n",
       "      <th>73635</th>\n",
       "      <td>[category, id=23419]</td>\n",
       "      <td>replay-gl11</td>\n",
       "      <td>2</td>\n",
       "    </tr>\n",
       "    <tr>\n",
       "      <th>73636</th>\n",
       "      <td>[category, id=23420]</td>\n",
       "      <td>replay-gl24</td>\n",
       "      <td>2</td>\n",
       "    </tr>\n",
       "    <tr>\n",
       "      <th>73637</th>\n",
       "      <td>[category, id=23421]</td>\n",
       "      <td>replay-ty346</td>\n",
       "      <td>2</td>\n",
       "    </tr>\n",
       "  </tbody>\n",
       "</table>\n",
       "<p>11797 rows × 3 columns</p>\n",
       "</div>"
      ],
      "text/plain": [
       "                category_id           alias  length_category_id\n",
       "7         [category, id=59]  legkovye-shiny                   2\n",
       "8         [category, id=60]    zimnie-shiny                   2\n",
       "9         [category, id=61]    letnie-shiny                   2\n",
       "10        [category, id=66]  kolesnye-diski                   2\n",
       "11        [category, id=67]     litye-diski                   2\n",
       "...                     ...             ...                 ...\n",
       "73633  [category, id=23417]   replay-hnd239                   2\n",
       "73634  [category, id=23418]    replay-lx125                   2\n",
       "73635  [category, id=23419]     replay-gl11                   2\n",
       "73636  [category, id=23420]     replay-gl24                   2\n",
       "73637  [category, id=23421]    replay-ty346                   2\n",
       "\n",
       "[11797 rows x 3 columns]"
      ]
     },
     "execution_count": 186,
     "metadata": {},
     "output_type": "execute_result"
    }
   ],
   "source": [
    "categories_aliases"
   ]
  },
  {
   "cell_type": "code",
   "execution_count": 187,
   "metadata": {},
   "outputs": [],
   "source": [
    "categories_aliases['alias'].to_csv('projects_aliases/kvp_categories_aliases.csv', index=False)"
   ]
  },
  {
   "cell_type": "markdown",
   "metadata": {},
   "source": [
    "### Карточки"
   ]
  },
  {
   "cell_type": "code",
   "execution_count": 188,
   "metadata": {},
   "outputs": [
    {
     "name": "stderr",
     "output_type": "stream",
     "text": [
      "/Users/andreytryastsin/opt/anaconda3/lib/python3.7/site-packages/pandas/core/frame.py:4304: SettingWithCopyWarning: \n",
      "A value is trying to be set on a copy of a slice from a DataFrame\n",
      "\n",
      "See the caveats in the documentation: https://pandas.pydata.org/pandas-docs/stable/user_guide/indexing.html#returning-a-view-versus-a-copy\n",
      "  errors=errors,\n"
     ]
    }
   ],
   "source": [
    "products_aliases = table_aliases_catalog[['query', 'keyword']]\n",
    "products_aliases.rename(columns = {'query':'product_id','keyword':'alias'}, inplace = True)\n",
    "filter_products = products_aliases['product_id'].str.contains('product_id')"
   ]
  },
  {
   "cell_type": "code",
   "execution_count": 189,
   "metadata": {},
   "outputs": [],
   "source": [
    "products_aliases = products_aliases[filter_products]"
   ]
  },
  {
   "cell_type": "code",
   "execution_count": 190,
   "metadata": {},
   "outputs": [
    {
     "data": {
      "text/plain": [
       "0"
      ]
     },
     "execution_count": 190,
     "metadata": {},
     "output_type": "execute_result"
    }
   ],
   "source": [
    "products_aliases.duplicated().sum()"
   ]
  },
  {
   "cell_type": "code",
   "execution_count": 191,
   "metadata": {},
   "outputs": [],
   "source": [
    "products_aliases.drop_duplicates(inplace=True)"
   ]
  },
  {
   "cell_type": "code",
   "execution_count": 192,
   "metadata": {
    "scrolled": true
   },
   "outputs": [
    {
     "data": {
      "text/html": [
       "<div>\n",
       "<style scoped>\n",
       "    .dataframe tbody tr th:only-of-type {\n",
       "        vertical-align: middle;\n",
       "    }\n",
       "\n",
       "    .dataframe tbody tr th {\n",
       "        vertical-align: top;\n",
       "    }\n",
       "\n",
       "    .dataframe thead th {\n",
       "        text-align: right;\n",
       "    }\n",
       "</style>\n",
       "<table border=\"1\" class=\"dataframe\">\n",
       "  <thead>\n",
       "    <tr style=\"text-align: right;\">\n",
       "      <th></th>\n",
       "      <th>product_id</th>\n",
       "      <th>alias</th>\n",
       "    </tr>\n",
       "  </thead>\n",
       "  <tbody>\n",
       "    <tr>\n",
       "      <th>16</th>\n",
       "      <td>product_id=205016</td>\n",
       "      <td>letnie_shiny_RoadX_RXQuest_H_T_02_275_65_R17_1...</td>\n",
       "    </tr>\n",
       "    <tr>\n",
       "      <th>17</th>\n",
       "      <td>product_id=205011</td>\n",
       "      <td>letnie_shiny_RoadX_RXQuest_H_T_02_285_65_R17_1...</td>\n",
       "    </tr>\n",
       "    <tr>\n",
       "      <th>18</th>\n",
       "      <td>product_id=205010</td>\n",
       "      <td>letnie_shiny_RoadX_RXQuest_SU01_265_35_R22_102...</td>\n",
       "    </tr>\n",
       "    <tr>\n",
       "      <th>19</th>\n",
       "      <td>product_id=205009</td>\n",
       "      <td>vsesezonnye_shiny_BFGoodrich_All_Terrain_T_A_K...</td>\n",
       "    </tr>\n",
       "    <tr>\n",
       "      <th>20</th>\n",
       "      <td>product_id=205008</td>\n",
       "      <td>letnie_shiny_RoadX_RXQuest_SU01_235_50_R18_97V...</td>\n",
       "    </tr>\n",
       "    <tr>\n",
       "      <th>...</th>\n",
       "      <td>...</td>\n",
       "      <td>...</td>\n",
       "    </tr>\n",
       "    <tr>\n",
       "      <th>73744</th>\n",
       "      <td>product_id=168692</td>\n",
       "      <td>letnie_shiny_Pirelli_Cinturato_P7_245_45_R18_1...</td>\n",
       "    </tr>\n",
       "    <tr>\n",
       "      <th>73745</th>\n",
       "      <td>product_id=168691</td>\n",
       "      <td>letnie_shiny_Maxxis_Pragmatra_MP15_SUV_215_65_...</td>\n",
       "    </tr>\n",
       "    <tr>\n",
       "      <th>73746</th>\n",
       "      <td>product_id=168690</td>\n",
       "      <td>zimnie_shiny_Kumho_WinterCraft_WS71_275_40_R20...</td>\n",
       "    </tr>\n",
       "    <tr>\n",
       "      <th>73747</th>\n",
       "      <td>product_id=168689</td>\n",
       "      <td>zimnie_shiny_Kumho_WinterCraft_WS71_225_55_R19...</td>\n",
       "    </tr>\n",
       "    <tr>\n",
       "      <th>73748</th>\n",
       "      <td>product_id=168688</td>\n",
       "      <td>zimnie_shiny_Nexen_Winguard_Winspike_WH62_185_...</td>\n",
       "    </tr>\n",
       "  </tbody>\n",
       "</table>\n",
       "<p>61933 rows × 2 columns</p>\n",
       "</div>"
      ],
      "text/plain": [
       "              product_id                                              alias\n",
       "16     product_id=205016  letnie_shiny_RoadX_RXQuest_H_T_02_275_65_R17_1...\n",
       "17     product_id=205011  letnie_shiny_RoadX_RXQuest_H_T_02_285_65_R17_1...\n",
       "18     product_id=205010  letnie_shiny_RoadX_RXQuest_SU01_265_35_R22_102...\n",
       "19     product_id=205009  vsesezonnye_shiny_BFGoodrich_All_Terrain_T_A_K...\n",
       "20     product_id=205008  letnie_shiny_RoadX_RXQuest_SU01_235_50_R18_97V...\n",
       "...                  ...                                                ...\n",
       "73744  product_id=168692  letnie_shiny_Pirelli_Cinturato_P7_245_45_R18_1...\n",
       "73745  product_id=168691  letnie_shiny_Maxxis_Pragmatra_MP15_SUV_215_65_...\n",
       "73746  product_id=168690  zimnie_shiny_Kumho_WinterCraft_WS71_275_40_R20...\n",
       "73747  product_id=168689  zimnie_shiny_Kumho_WinterCraft_WS71_225_55_R19...\n",
       "73748  product_id=168688  zimnie_shiny_Nexen_Winguard_Winspike_WH62_185_...\n",
       "\n",
       "[61933 rows x 2 columns]"
      ]
     },
     "execution_count": 192,
     "metadata": {},
     "output_type": "execute_result"
    }
   ],
   "source": [
    "products_aliases"
   ]
  },
  {
   "cell_type": "code",
   "execution_count": 193,
   "metadata": {},
   "outputs": [],
   "source": [
    "products_aliases['alias'].to_csv('projects_aliases/kvp_products_aliases.csv', index=False)"
   ]
  },
  {
   "cell_type": "markdown",
   "metadata": {},
   "source": [
    "### Фильтры"
   ]
  },
  {
   "cell_type": "code",
   "execution_count": 194,
   "metadata": {},
   "outputs": [],
   "source": [
    "table_aliases_filter['alias'].to_csv('projects_aliases/kvp_filters_aliases.csv', index=False)"
   ]
  },
  {
   "cell_type": "code",
   "execution_count": null,
   "metadata": {},
   "outputs": [],
   "source": []
  },
  {
   "cell_type": "markdown",
   "metadata": {},
   "source": [
    "## The Koleso"
   ]
  },
  {
   "cell_type": "code",
   "execution_count": 196,
   "metadata": {},
   "outputs": [],
   "source": [
    "table_aliases_catalog = pd.read_csv('projects_tables_with_aliases/koleso_oc_url_alias.csv')\n",
    "table_aliases_filter = pd.read_csv('projects_tables_with_aliases/koleso_oc_mfilter_url_alias.csv')"
   ]
  },
  {
   "cell_type": "markdown",
   "metadata": {},
   "source": [
    "### Категории"
   ]
  },
  {
   "cell_type": "code",
   "execution_count": 197,
   "metadata": {},
   "outputs": [
    {
     "name": "stderr",
     "output_type": "stream",
     "text": [
      "/Users/andreytryastsin/opt/anaconda3/lib/python3.7/site-packages/pandas/core/frame.py:4304: SettingWithCopyWarning: \n",
      "A value is trying to be set on a copy of a slice from a DataFrame\n",
      "\n",
      "See the caveats in the documentation: https://pandas.pydata.org/pandas-docs/stable/user_guide/indexing.html#returning-a-view-versus-a-copy\n",
      "  errors=errors,\n"
     ]
    }
   ],
   "source": [
    "categories_aliases = table_aliases_catalog[['query', 'keyword']]\n",
    "categories_aliases.rename(columns = {'query':'category_id','keyword':'alias'}, inplace = True)\n",
    "filter_categories = categories_aliases['category_id'].str.contains('category_id')"
   ]
  },
  {
   "cell_type": "code",
   "execution_count": 198,
   "metadata": {},
   "outputs": [],
   "source": [
    "categories_aliases = categories_aliases[filter_categories]"
   ]
  },
  {
   "cell_type": "code",
   "execution_count": 199,
   "metadata": {},
   "outputs": [
    {
     "data": {
      "text/plain": [
       "0"
      ]
     },
     "execution_count": 199,
     "metadata": {},
     "output_type": "execute_result"
    }
   ],
   "source": [
    "categories_aliases.duplicated().sum()"
   ]
  },
  {
   "cell_type": "code",
   "execution_count": 200,
   "metadata": {},
   "outputs": [],
   "source": [
    "categories_aliases.drop_duplicates(inplace=True)"
   ]
  },
  {
   "cell_type": "code",
   "execution_count": 201,
   "metadata": {},
   "outputs": [],
   "source": [
    "categories_aliases['category_id'] = categories_aliases['category_id'].apply(lambda x: x.split('_'))"
   ]
  },
  {
   "cell_type": "code",
   "execution_count": 202,
   "metadata": {},
   "outputs": [],
   "source": [
    "categories_aliases['length_category_id'] = categories_aliases['category_id'].apply(lambda x: len(x))"
   ]
  },
  {
   "cell_type": "code",
   "execution_count": 203,
   "metadata": {},
   "outputs": [],
   "source": [
    "categories_aliases = categories_aliases[categories_aliases['length_category_id'] == 2]"
   ]
  },
  {
   "cell_type": "code",
   "execution_count": 204,
   "metadata": {},
   "outputs": [
    {
     "data": {
      "text/html": [
       "<div>\n",
       "<style scoped>\n",
       "    .dataframe tbody tr th:only-of-type {\n",
       "        vertical-align: middle;\n",
       "    }\n",
       "\n",
       "    .dataframe tbody tr th {\n",
       "        vertical-align: top;\n",
       "    }\n",
       "\n",
       "    .dataframe thead th {\n",
       "        text-align: right;\n",
       "    }\n",
       "</style>\n",
       "<table border=\"1\" class=\"dataframe\">\n",
       "  <thead>\n",
       "    <tr style=\"text-align: right;\">\n",
       "      <th></th>\n",
       "      <th>category_id</th>\n",
       "      <th>alias</th>\n",
       "      <th>length_category_id</th>\n",
       "    </tr>\n",
       "  </thead>\n",
       "  <tbody>\n",
       "    <tr>\n",
       "      <th>0</th>\n",
       "      <td>[category, id=78249]</td>\n",
       "      <td>shiny-dunlop-sp-sport-maxx-050</td>\n",
       "      <td>2</td>\n",
       "    </tr>\n",
       "    <tr>\n",
       "      <th>38</th>\n",
       "      <td>[category, id=82977]</td>\n",
       "      <td>kumho-crugen-hp91</td>\n",
       "      <td>2</td>\n",
       "    </tr>\n",
       "    <tr>\n",
       "      <th>40</th>\n",
       "      <td>[category, id=82976]</td>\n",
       "      <td>nexen-npriz-ah8</td>\n",
       "      <td>2</td>\n",
       "    </tr>\n",
       "    <tr>\n",
       "      <th>323</th>\n",
       "      <td>[category, id=82975]</td>\n",
       "      <td>specshini-voltair-agro-dr-108</td>\n",
       "      <td>2</td>\n",
       "    </tr>\n",
       "    <tr>\n",
       "      <th>326</th>\n",
       "      <td>[category, id=82974]</td>\n",
       "      <td>specshini-voltair-ya-140</td>\n",
       "      <td>2</td>\n",
       "    </tr>\n",
       "    <tr>\n",
       "      <th>...</th>\n",
       "      <td>...</td>\n",
       "      <td>...</td>\n",
       "      <td>...</td>\n",
       "    </tr>\n",
       "    <tr>\n",
       "      <th>117555</th>\n",
       "      <td>[category, id=60397]</td>\n",
       "      <td>arktis</td>\n",
       "      <td>2</td>\n",
       "    </tr>\n",
       "    <tr>\n",
       "      <th>117556</th>\n",
       "      <td>[category, id=60396]</td>\n",
       "      <td>425</td>\n",
       "      <td>2</td>\n",
       "    </tr>\n",
       "    <tr>\n",
       "      <th>117557</th>\n",
       "      <td>[category, id=60395]</td>\n",
       "      <td>846</td>\n",
       "      <td>2</td>\n",
       "    </tr>\n",
       "    <tr>\n",
       "      <th>117558</th>\n",
       "      <td>[category, id=60394]</td>\n",
       "      <td>852</td>\n",
       "      <td>2</td>\n",
       "    </tr>\n",
       "    <tr>\n",
       "      <th>117559</th>\n",
       "      <td>[category, id=60393]</td>\n",
       "      <td>864</td>\n",
       "      <td>2</td>\n",
       "    </tr>\n",
       "  </tbody>\n",
       "</table>\n",
       "<p>22365 rows × 3 columns</p>\n",
       "</div>"
      ],
      "text/plain": [
       "                 category_id                           alias  \\\n",
       "0       [category, id=78249]  shiny-dunlop-sp-sport-maxx-050   \n",
       "38      [category, id=82977]               kumho-crugen-hp91   \n",
       "40      [category, id=82976]                 nexen-npriz-ah8   \n",
       "323     [category, id=82975]   specshini-voltair-agro-dr-108   \n",
       "326     [category, id=82974]        specshini-voltair-ya-140   \n",
       "...                      ...                             ...   \n",
       "117555  [category, id=60397]                          arktis   \n",
       "117556  [category, id=60396]                             425   \n",
       "117557  [category, id=60395]                             846   \n",
       "117558  [category, id=60394]                             852   \n",
       "117559  [category, id=60393]                             864   \n",
       "\n",
       "        length_category_id  \n",
       "0                        2  \n",
       "38                       2  \n",
       "40                       2  \n",
       "323                      2  \n",
       "326                      2  \n",
       "...                    ...  \n",
       "117555                   2  \n",
       "117556                   2  \n",
       "117557                   2  \n",
       "117558                   2  \n",
       "117559                   2  \n",
       "\n",
       "[22365 rows x 3 columns]"
      ]
     },
     "execution_count": 204,
     "metadata": {},
     "output_type": "execute_result"
    }
   ],
   "source": [
    "categories_aliases"
   ]
  },
  {
   "cell_type": "code",
   "execution_count": 205,
   "metadata": {},
   "outputs": [],
   "source": [
    "categories_aliases['alias'].to_csv('projects_aliases/koleso_categories_aliases.csv', index=False)"
   ]
  },
  {
   "cell_type": "markdown",
   "metadata": {},
   "source": [
    "### Карточки"
   ]
  },
  {
   "cell_type": "code",
   "execution_count": 206,
   "metadata": {},
   "outputs": [
    {
     "name": "stderr",
     "output_type": "stream",
     "text": [
      "/Users/andreytryastsin/opt/anaconda3/lib/python3.7/site-packages/pandas/core/frame.py:4304: SettingWithCopyWarning: \n",
      "A value is trying to be set on a copy of a slice from a DataFrame\n",
      "\n",
      "See the caveats in the documentation: https://pandas.pydata.org/pandas-docs/stable/user_guide/indexing.html#returning-a-view-versus-a-copy\n",
      "  errors=errors,\n"
     ]
    }
   ],
   "source": [
    "products_aliases = table_aliases_catalog[['query', 'keyword']]\n",
    "products_aliases.rename(columns = {'query':'product_id','keyword':'alias'}, inplace = True)\n",
    "filter_products = products_aliases['product_id'].str.contains('product_id')"
   ]
  },
  {
   "cell_type": "code",
   "execution_count": 207,
   "metadata": {},
   "outputs": [],
   "source": [
    "products_aliases = products_aliases[filter_products]"
   ]
  },
  {
   "cell_type": "code",
   "execution_count": 208,
   "metadata": {},
   "outputs": [
    {
     "data": {
      "text/plain": [
       "0"
      ]
     },
     "execution_count": 208,
     "metadata": {},
     "output_type": "execute_result"
    }
   ],
   "source": [
    "products_aliases.duplicated().sum()"
   ]
  },
  {
   "cell_type": "code",
   "execution_count": 209,
   "metadata": {},
   "outputs": [],
   "source": [
    "products_aliases.drop_duplicates(inplace=True)"
   ]
  },
  {
   "cell_type": "code",
   "execution_count": 210,
   "metadata": {
    "scrolled": true
   },
   "outputs": [
    {
     "data": {
      "text/html": [
       "<div>\n",
       "<style scoped>\n",
       "    .dataframe tbody tr th:only-of-type {\n",
       "        vertical-align: middle;\n",
       "    }\n",
       "\n",
       "    .dataframe tbody tr th {\n",
       "        vertical-align: top;\n",
       "    }\n",
       "\n",
       "    .dataframe thead th {\n",
       "        text-align: right;\n",
       "    }\n",
       "</style>\n",
       "<table border=\"1\" class=\"dataframe\">\n",
       "  <thead>\n",
       "    <tr style=\"text-align: right;\">\n",
       "      <th></th>\n",
       "      <th>product_id</th>\n",
       "      <th>alias</th>\n",
       "    </tr>\n",
       "  </thead>\n",
       "  <tbody>\n",
       "    <tr>\n",
       "      <th>1</th>\n",
       "      <td>product_id=4196472</td>\n",
       "      <td>litie-kolesnie-diski-nz-h-03r-6-5x16-5x114-3-e...</td>\n",
       "    </tr>\n",
       "    <tr>\n",
       "      <th>2</th>\n",
       "      <td>product_id=4196471</td>\n",
       "      <td>litie-kolesnie-diski-nz-h-03r-6-5x16-5x112-et5...</td>\n",
       "    </tr>\n",
       "    <tr>\n",
       "      <th>3</th>\n",
       "      <td>product_id=4196470</td>\n",
       "      <td>litie-kolesnie-diski-nz-h-03r-6-5x16-5x112-et3...</td>\n",
       "    </tr>\n",
       "    <tr>\n",
       "      <th>4</th>\n",
       "      <td>product_id=4196469</td>\n",
       "      <td>litie-kolesnie-diski-nz-h-03r-6-5x16-5x110-et3...</td>\n",
       "    </tr>\n",
       "    <tr>\n",
       "      <th>5</th>\n",
       "      <td>product_id=4196468</td>\n",
       "      <td>litie-kolesnie-diski-nz-r-02-6-5x16-5x112-et50...</td>\n",
       "    </tr>\n",
       "    <tr>\n",
       "      <th>...</th>\n",
       "      <td>...</td>\n",
       "      <td>...</td>\n",
       "    </tr>\n",
       "    <tr>\n",
       "      <th>108728</th>\n",
       "      <td>product_id=24122</td>\n",
       "      <td>zimnie-shiny-tigar-sigura-stud-17570-r13-82t-s...</td>\n",
       "    </tr>\n",
       "    <tr>\n",
       "      <th>108729</th>\n",
       "      <td>product_id=24121</td>\n",
       "      <td>zimnie-shiny-tigar-sigura-stud-17570-r14-84t-s...</td>\n",
       "    </tr>\n",
       "    <tr>\n",
       "      <th>108730</th>\n",
       "      <td>product_id=24120</td>\n",
       "      <td>zimnie-shiny-tigar-sigura-stud-18560-r14-82t-s...</td>\n",
       "    </tr>\n",
       "    <tr>\n",
       "      <th>108731</th>\n",
       "      <td>product_id=24119</td>\n",
       "      <td>zimnie-shiny-tigar-sigura-stud-18565-r14-86t-s...</td>\n",
       "    </tr>\n",
       "    <tr>\n",
       "      <th>108732</th>\n",
       "      <td>product_id=24117</td>\n",
       "      <td>zimnie-shiny-tigar-sigura-stud-18570-r14-88t-s...</td>\n",
       "    </tr>\n",
       "  </tbody>\n",
       "</table>\n",
       "<p>93823 rows × 2 columns</p>\n",
       "</div>"
      ],
      "text/plain": [
       "                product_id                                              alias\n",
       "1       product_id=4196472  litie-kolesnie-diski-nz-h-03r-6-5x16-5x114-3-e...\n",
       "2       product_id=4196471  litie-kolesnie-diski-nz-h-03r-6-5x16-5x112-et5...\n",
       "3       product_id=4196470  litie-kolesnie-diski-nz-h-03r-6-5x16-5x112-et3...\n",
       "4       product_id=4196469  litie-kolesnie-diski-nz-h-03r-6-5x16-5x110-et3...\n",
       "5       product_id=4196468  litie-kolesnie-diski-nz-r-02-6-5x16-5x112-et50...\n",
       "...                    ...                                                ...\n",
       "108728    product_id=24122  zimnie-shiny-tigar-sigura-stud-17570-r13-82t-s...\n",
       "108729    product_id=24121  zimnie-shiny-tigar-sigura-stud-17570-r14-84t-s...\n",
       "108730    product_id=24120  zimnie-shiny-tigar-sigura-stud-18560-r14-82t-s...\n",
       "108731    product_id=24119  zimnie-shiny-tigar-sigura-stud-18565-r14-86t-s...\n",
       "108732    product_id=24117  zimnie-shiny-tigar-sigura-stud-18570-r14-88t-s...\n",
       "\n",
       "[93823 rows x 2 columns]"
      ]
     },
     "execution_count": 210,
     "metadata": {},
     "output_type": "execute_result"
    }
   ],
   "source": [
    "products_aliases"
   ]
  },
  {
   "cell_type": "code",
   "execution_count": 211,
   "metadata": {},
   "outputs": [],
   "source": [
    "products_aliases['alias'].to_csv('projects_aliases/koleso_products_aliases.csv', index=False)"
   ]
  },
  {
   "cell_type": "markdown",
   "metadata": {},
   "source": [
    "### Фильтры"
   ]
  },
  {
   "cell_type": "code",
   "execution_count": 213,
   "metadata": {},
   "outputs": [],
   "source": [
    "table_aliases_filter['alias'].to_csv('projects_aliases/koleso_filters_aliases.csv', index=False)"
   ]
  },
  {
   "cell_type": "code",
   "execution_count": null,
   "metadata": {},
   "outputs": [],
   "source": []
  },
  {
   "cell_type": "markdown",
   "metadata": {},
   "source": [
    "## Kypishiny"
   ]
  },
  {
   "cell_type": "code",
   "execution_count": 215,
   "metadata": {},
   "outputs": [],
   "source": [
    "table_aliases_catalog = pd.read_csv('projects_tables_with_aliases/ks_oc_seo_url.csv')\n",
    "#table_aliases_filter = pd.read_csv('projects_tables_with_aliases/ks_oc_mfilter_url_alias.csv')"
   ]
  },
  {
   "cell_type": "markdown",
   "metadata": {},
   "source": [
    "### Категории"
   ]
  },
  {
   "cell_type": "code",
   "execution_count": 216,
   "metadata": {},
   "outputs": [
    {
     "name": "stderr",
     "output_type": "stream",
     "text": [
      "/Users/andreytryastsin/opt/anaconda3/lib/python3.7/site-packages/pandas/core/frame.py:4304: SettingWithCopyWarning: \n",
      "A value is trying to be set on a copy of a slice from a DataFrame\n",
      "\n",
      "See the caveats in the documentation: https://pandas.pydata.org/pandas-docs/stable/user_guide/indexing.html#returning-a-view-versus-a-copy\n",
      "  errors=errors,\n"
     ]
    }
   ],
   "source": [
    "categories_aliases = table_aliases_catalog[['query', 'keyword']]\n",
    "categories_aliases.rename(columns = {'query':'category_id','keyword':'alias'}, inplace = True)\n",
    "filter_categories = categories_aliases['category_id'].str.contains('category_id')"
   ]
  },
  {
   "cell_type": "code",
   "execution_count": 217,
   "metadata": {},
   "outputs": [],
   "source": [
    "categories_aliases = categories_aliases[filter_categories]"
   ]
  },
  {
   "cell_type": "code",
   "execution_count": 218,
   "metadata": {},
   "outputs": [
    {
     "data": {
      "text/plain": [
       "0"
      ]
     },
     "execution_count": 218,
     "metadata": {},
     "output_type": "execute_result"
    }
   ],
   "source": [
    "categories_aliases.duplicated().sum()"
   ]
  },
  {
   "cell_type": "code",
   "execution_count": 219,
   "metadata": {},
   "outputs": [],
   "source": [
    "categories_aliases.drop_duplicates(inplace=True)"
   ]
  },
  {
   "cell_type": "code",
   "execution_count": 220,
   "metadata": {},
   "outputs": [],
   "source": [
    "categories_aliases['category_id'] = categories_aliases['category_id'].apply(lambda x: x.split('_'))"
   ]
  },
  {
   "cell_type": "code",
   "execution_count": 221,
   "metadata": {},
   "outputs": [],
   "source": [
    "categories_aliases['length_category_id'] = categories_aliases['category_id'].apply(lambda x: len(x))"
   ]
  },
  {
   "cell_type": "code",
   "execution_count": 222,
   "metadata": {},
   "outputs": [],
   "source": [
    "categories_aliases = categories_aliases[categories_aliases['length_category_id'] == 2]"
   ]
  },
  {
   "cell_type": "code",
   "execution_count": 223,
   "metadata": {},
   "outputs": [
    {
     "data": {
      "text/html": [
       "<div>\n",
       "<style scoped>\n",
       "    .dataframe tbody tr th:only-of-type {\n",
       "        vertical-align: middle;\n",
       "    }\n",
       "\n",
       "    .dataframe tbody tr th {\n",
       "        vertical-align: top;\n",
       "    }\n",
       "\n",
       "    .dataframe thead th {\n",
       "        text-align: right;\n",
       "    }\n",
       "</style>\n",
       "<table border=\"1\" class=\"dataframe\">\n",
       "  <thead>\n",
       "    <tr style=\"text-align: right;\">\n",
       "      <th></th>\n",
       "      <th>category_id</th>\n",
       "      <th>alias</th>\n",
       "      <th>length_category_id</th>\n",
       "    </tr>\n",
       "  </thead>\n",
       "  <tbody>\n",
       "    <tr>\n",
       "      <th>6</th>\n",
       "      <td>[category, id=12491]</td>\n",
       "      <td>diski-vissol-v-107</td>\n",
       "      <td>2</td>\n",
       "    </tr>\n",
       "    <tr>\n",
       "      <th>11</th>\n",
       "      <td>[category, id=12490]</td>\n",
       "      <td>diski-replay-jg14</td>\n",
       "      <td>2</td>\n",
       "    </tr>\n",
       "    <tr>\n",
       "      <th>21</th>\n",
       "      <td>[category, id=12668]</td>\n",
       "      <td>diski-replica-top-driver-b143</td>\n",
       "      <td>2</td>\n",
       "    </tr>\n",
       "    <tr>\n",
       "      <th>29</th>\n",
       "      <td>[category, id=12581]</td>\n",
       "      <td>diski-replay-ki223</td>\n",
       "      <td>2</td>\n",
       "    </tr>\n",
       "    <tr>\n",
       "      <th>43</th>\n",
       "      <td>[category, id=12580]</td>\n",
       "      <td>diski-replay-ty182</td>\n",
       "      <td>2</td>\n",
       "    </tr>\n",
       "    <tr>\n",
       "      <th>...</th>\n",
       "      <td>...</td>\n",
       "      <td>...</td>\n",
       "      <td>...</td>\n",
       "    </tr>\n",
       "    <tr>\n",
       "      <th>42304</th>\n",
       "      <td>[category, id=14310]</td>\n",
       "      <td>diski-alcasta-m04</td>\n",
       "      <td>2</td>\n",
       "    </tr>\n",
       "    <tr>\n",
       "      <th>42398</th>\n",
       "      <td>[category, id=14311]</td>\n",
       "      <td>diski-xtrike-x-133</td>\n",
       "      <td>2</td>\n",
       "    </tr>\n",
       "    <tr>\n",
       "      <th>42412</th>\n",
       "      <td>[category, id=14312]</td>\n",
       "      <td>shini-belshina-bel-253</td>\n",
       "      <td>2</td>\n",
       "    </tr>\n",
       "    <tr>\n",
       "      <th>42424</th>\n",
       "      <td>[category, id=14313]</td>\n",
       "      <td>shini-dunlop-sp-sport-2050</td>\n",
       "      <td>2</td>\n",
       "    </tr>\n",
       "    <tr>\n",
       "      <th>42486</th>\n",
       "      <td>[category, id=14314]</td>\n",
       "      <td>diski-ls-rc47</td>\n",
       "      <td>2</td>\n",
       "    </tr>\n",
       "  </tbody>\n",
       "</table>\n",
       "<p>6176 rows × 3 columns</p>\n",
       "</div>"
      ],
      "text/plain": [
       "                category_id                          alias  length_category_id\n",
       "6      [category, id=12491]             diski-vissol-v-107                   2\n",
       "11     [category, id=12490]              diski-replay-jg14                   2\n",
       "21     [category, id=12668]  diski-replica-top-driver-b143                   2\n",
       "29     [category, id=12581]             diski-replay-ki223                   2\n",
       "43     [category, id=12580]             diski-replay-ty182                   2\n",
       "...                     ...                            ...                 ...\n",
       "42304  [category, id=14310]              diski-alcasta-m04                   2\n",
       "42398  [category, id=14311]             diski-xtrike-x-133                   2\n",
       "42412  [category, id=14312]         shini-belshina-bel-253                   2\n",
       "42424  [category, id=14313]     shini-dunlop-sp-sport-2050                   2\n",
       "42486  [category, id=14314]                  diski-ls-rc47                   2\n",
       "\n",
       "[6176 rows x 3 columns]"
      ]
     },
     "execution_count": 223,
     "metadata": {},
     "output_type": "execute_result"
    }
   ],
   "source": [
    "categories_aliases"
   ]
  },
  {
   "cell_type": "code",
   "execution_count": 224,
   "metadata": {},
   "outputs": [],
   "source": [
    "categories_aliases['alias'].to_csv('projects_aliases/ks_categories_aliases.csv', index=False)"
   ]
  },
  {
   "cell_type": "markdown",
   "metadata": {},
   "source": [
    "### Карточки"
   ]
  },
  {
   "cell_type": "code",
   "execution_count": 225,
   "metadata": {},
   "outputs": [
    {
     "name": "stderr",
     "output_type": "stream",
     "text": [
      "/Users/andreytryastsin/opt/anaconda3/lib/python3.7/site-packages/pandas/core/frame.py:4304: SettingWithCopyWarning: \n",
      "A value is trying to be set on a copy of a slice from a DataFrame\n",
      "\n",
      "See the caveats in the documentation: https://pandas.pydata.org/pandas-docs/stable/user_guide/indexing.html#returning-a-view-versus-a-copy\n",
      "  errors=errors,\n"
     ]
    }
   ],
   "source": [
    "products_aliases = table_aliases_catalog[['query', 'keyword']]\n",
    "products_aliases.rename(columns = {'query':'product_id','keyword':'alias'}, inplace = True)\n",
    "filter_products = products_aliases['product_id'].str.contains('product_id')"
   ]
  },
  {
   "cell_type": "code",
   "execution_count": 226,
   "metadata": {},
   "outputs": [],
   "source": [
    "products_aliases = products_aliases[filter_products]"
   ]
  },
  {
   "cell_type": "code",
   "execution_count": 227,
   "metadata": {},
   "outputs": [
    {
     "data": {
      "text/plain": [
       "0"
      ]
     },
     "execution_count": 227,
     "metadata": {},
     "output_type": "execute_result"
    }
   ],
   "source": [
    "products_aliases.duplicated().sum()"
   ]
  },
  {
   "cell_type": "code",
   "execution_count": 228,
   "metadata": {},
   "outputs": [],
   "source": [
    "products_aliases.drop_duplicates(inplace=True)"
   ]
  },
  {
   "cell_type": "code",
   "execution_count": 229,
   "metadata": {
    "scrolled": true
   },
   "outputs": [
    {
     "data": {
      "text/html": [
       "<div>\n",
       "<style scoped>\n",
       "    .dataframe tbody tr th:only-of-type {\n",
       "        vertical-align: middle;\n",
       "    }\n",
       "\n",
       "    .dataframe tbody tr th {\n",
       "        vertical-align: top;\n",
       "    }\n",
       "\n",
       "    .dataframe thead th {\n",
       "        text-align: right;\n",
       "    }\n",
       "</style>\n",
       "<table border=\"1\" class=\"dataframe\">\n",
       "  <thead>\n",
       "    <tr style=\"text-align: right;\">\n",
       "      <th></th>\n",
       "      <th>product_id</th>\n",
       "      <th>alias</th>\n",
       "    </tr>\n",
       "  </thead>\n",
       "  <tbody>\n",
       "    <tr>\n",
       "      <th>0</th>\n",
       "      <td>product_id=93412</td>\n",
       "      <td>litie-kolesnie-diski-replica-concept-mr532-8-5...</td>\n",
       "    </tr>\n",
       "    <tr>\n",
       "      <th>1</th>\n",
       "      <td>product_id=93411</td>\n",
       "      <td>litie-kolesnie-diski-k-amp-k-barrakuda-7-5x17-...</td>\n",
       "    </tr>\n",
       "    <tr>\n",
       "      <th>2</th>\n",
       "      <td>product_id=93410</td>\n",
       "      <td>litie-kolesnie-diski-vissol-v-080l-8-5x19-5x12...</td>\n",
       "    </tr>\n",
       "    <tr>\n",
       "      <th>3</th>\n",
       "      <td>product_id=93409</td>\n",
       "      <td>litie-kolesnie-diski-vissol-v-107-8-5x19-5x112...</td>\n",
       "    </tr>\n",
       "    <tr>\n",
       "      <th>4</th>\n",
       "      <td>product_id=93407</td>\n",
       "      <td>litie-kolesnie-diski-vissol-v-107-10-5x22-5x12...</td>\n",
       "    </tr>\n",
       "    <tr>\n",
       "      <th>...</th>\n",
       "      <td>...</td>\n",
       "      <td>...</td>\n",
       "    </tr>\n",
       "    <tr>\n",
       "      <th>42493</th>\n",
       "      <td>product_id=104831</td>\n",
       "      <td>litie-kolesnie-diski-k-amp-k-tanais-7x18-5x112...</td>\n",
       "    </tr>\n",
       "    <tr>\n",
       "      <th>42494</th>\n",
       "      <td>product_id=104832</td>\n",
       "      <td>litie-kolesnie-diski-k-amp-k-atlant-7x16-5x139...</td>\n",
       "    </tr>\n",
       "    <tr>\n",
       "      <th>42495</th>\n",
       "      <td>product_id=104833</td>\n",
       "      <td>litie-kolesnie-diski-k-amp-k-meandr-6x15-4x100...</td>\n",
       "    </tr>\n",
       "    <tr>\n",
       "      <th>42496</th>\n",
       "      <td>product_id=104834</td>\n",
       "      <td>litie-kolesnie-diski-k-amp-k-meandr-6x15-4x100...</td>\n",
       "    </tr>\n",
       "    <tr>\n",
       "      <th>42497</th>\n",
       "      <td>product_id=104835</td>\n",
       "      <td>litie-kolesnie-diski-k-amp-k-meandr-6x15-4x98-...</td>\n",
       "    </tr>\n",
       "  </tbody>\n",
       "</table>\n",
       "<p>36304 rows × 2 columns</p>\n",
       "</div>"
      ],
      "text/plain": [
       "              product_id                                              alias\n",
       "0       product_id=93412  litie-kolesnie-diski-replica-concept-mr532-8-5...\n",
       "1       product_id=93411  litie-kolesnie-diski-k-amp-k-barrakuda-7-5x17-...\n",
       "2       product_id=93410  litie-kolesnie-diski-vissol-v-080l-8-5x19-5x12...\n",
       "3       product_id=93409  litie-kolesnie-diski-vissol-v-107-8-5x19-5x112...\n",
       "4       product_id=93407  litie-kolesnie-diski-vissol-v-107-10-5x22-5x12...\n",
       "...                  ...                                                ...\n",
       "42493  product_id=104831  litie-kolesnie-diski-k-amp-k-tanais-7x18-5x112...\n",
       "42494  product_id=104832  litie-kolesnie-diski-k-amp-k-atlant-7x16-5x139...\n",
       "42495  product_id=104833  litie-kolesnie-diski-k-amp-k-meandr-6x15-4x100...\n",
       "42496  product_id=104834  litie-kolesnie-diski-k-amp-k-meandr-6x15-4x100...\n",
       "42497  product_id=104835  litie-kolesnie-diski-k-amp-k-meandr-6x15-4x98-...\n",
       "\n",
       "[36304 rows x 2 columns]"
      ]
     },
     "execution_count": 229,
     "metadata": {},
     "output_type": "execute_result"
    }
   ],
   "source": [
    "products_aliases"
   ]
  },
  {
   "cell_type": "code",
   "execution_count": 230,
   "metadata": {},
   "outputs": [],
   "source": [
    "products_aliases['alias'].to_csv('projects_aliases/ks_products_aliases.csv', index=False)"
   ]
  },
  {
   "cell_type": "markdown",
   "metadata": {},
   "source": [
    "### Фильтры"
   ]
  },
  {
   "cell_type": "code",
   "execution_count": 177,
   "metadata": {},
   "outputs": [],
   "source": [
    "#table_aliases_filter['alias'].to_csv('projects_aliases/ew_filters_aliases.csv', index=False)"
   ]
  },
  {
   "cell_type": "code",
   "execution_count": null,
   "metadata": {},
   "outputs": [],
   "source": []
  }
 ],
 "metadata": {
  "kernelspec": {
   "display_name": "Python 3",
   "language": "python",
   "name": "python3"
  },
  "language_info": {
   "codemirror_mode": {
    "name": "ipython",
    "version": 3
   },
   "file_extension": ".py",
   "mimetype": "text/x-python",
   "name": "python",
   "nbconvert_exporter": "python",
   "pygments_lexer": "ipython3",
   "version": "3.7.9"
  }
 },
 "nbformat": 4,
 "nbformat_minor": 4
}
